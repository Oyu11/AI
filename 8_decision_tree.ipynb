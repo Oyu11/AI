{
 "cells": [
  {
   "cell_type": "code",
   "execution_count": 1,
   "metadata": {},
   "outputs": [
    {
     "name": "stdout",
     "output_type": "stream",
     "text": [
      "  Gender Married Dependents     Education Self_Employed  Applicant_Income  \\\n",
      "0   Male      No          0      Graduate            No            584900   \n",
      "1   Male     Yes          1      Graduate            No            458300   \n",
      "2   Male     Yes          0      Graduate           Yes            300000   \n",
      "3   Male     Yes          0  Not Graduate            No            258300   \n",
      "4   Male      No          0      Graduate            No            600000   \n",
      "\n",
      "   Coapplicant_Income  Loan_Amount   Term  Credit_History   Area Status  \n",
      "0                 0.0     15000000  360.0             1.0  Urban      Y  \n",
      "1            150800.0     12800000  360.0             1.0  Rural      N  \n",
      "2                 0.0      6600000  360.0             1.0  Urban      Y  \n",
      "3            235800.0     12000000  360.0             1.0  Urban      Y  \n",
      "4                 0.0     14100000  360.0             1.0  Urban      Y  \n"
     ]
    }
   ],
   "source": [
    "import pandas as pd\n",
    "\n",
    "file_path = r\"D:\\\\hicheel\\\\AI\\\\loan_train.csv\"\n",
    "data = pd.read_csv(file_path)\n",
    "\n",
    "print(data.head())\n"
   ]
  },
  {
   "cell_type": "code",
   "execution_count": 2,
   "metadata": {},
   "outputs": [
    {
     "data": {
      "text/html": [
       "<div>\n",
       "<style scoped>\n",
       "    .dataframe tbody tr th:only-of-type {\n",
       "        vertical-align: middle;\n",
       "    }\n",
       "\n",
       "    .dataframe tbody tr th {\n",
       "        vertical-align: top;\n",
       "    }\n",
       "\n",
       "    .dataframe thead th {\n",
       "        text-align: right;\n",
       "    }\n",
       "</style>\n",
       "<table border=\"1\" class=\"dataframe\">\n",
       "  <thead>\n",
       "    <tr style=\"text-align: right;\">\n",
       "      <th></th>\n",
       "      <th>Gender</th>\n",
       "      <th>Married</th>\n",
       "      <th>Dependents</th>\n",
       "      <th>Education</th>\n",
       "      <th>Self_Employed</th>\n",
       "      <th>Applicant_Income</th>\n",
       "      <th>Coapplicant_Income</th>\n",
       "      <th>Loan_Amount</th>\n",
       "      <th>Term</th>\n",
       "      <th>Credit_History</th>\n",
       "      <th>Area</th>\n",
       "      <th>Status</th>\n",
       "    </tr>\n",
       "  </thead>\n",
       "  <tbody>\n",
       "    <tr>\n",
       "      <th>0</th>\n",
       "      <td>Male</td>\n",
       "      <td>No</td>\n",
       "      <td>0</td>\n",
       "      <td>Graduate</td>\n",
       "      <td>No</td>\n",
       "      <td>584900</td>\n",
       "      <td>0.0</td>\n",
       "      <td>15000000</td>\n",
       "      <td>360.0</td>\n",
       "      <td>1.0</td>\n",
       "      <td>Urban</td>\n",
       "      <td>Y</td>\n",
       "    </tr>\n",
       "    <tr>\n",
       "      <th>1</th>\n",
       "      <td>Male</td>\n",
       "      <td>Yes</td>\n",
       "      <td>1</td>\n",
       "      <td>Graduate</td>\n",
       "      <td>No</td>\n",
       "      <td>458300</td>\n",
       "      <td>150800.0</td>\n",
       "      <td>12800000</td>\n",
       "      <td>360.0</td>\n",
       "      <td>1.0</td>\n",
       "      <td>Rural</td>\n",
       "      <td>N</td>\n",
       "    </tr>\n",
       "    <tr>\n",
       "      <th>2</th>\n",
       "      <td>Male</td>\n",
       "      <td>Yes</td>\n",
       "      <td>0</td>\n",
       "      <td>Graduate</td>\n",
       "      <td>Yes</td>\n",
       "      <td>300000</td>\n",
       "      <td>0.0</td>\n",
       "      <td>6600000</td>\n",
       "      <td>360.0</td>\n",
       "      <td>1.0</td>\n",
       "      <td>Urban</td>\n",
       "      <td>Y</td>\n",
       "    </tr>\n",
       "    <tr>\n",
       "      <th>3</th>\n",
       "      <td>Male</td>\n",
       "      <td>Yes</td>\n",
       "      <td>0</td>\n",
       "      <td>Not Graduate</td>\n",
       "      <td>No</td>\n",
       "      <td>258300</td>\n",
       "      <td>235800.0</td>\n",
       "      <td>12000000</td>\n",
       "      <td>360.0</td>\n",
       "      <td>1.0</td>\n",
       "      <td>Urban</td>\n",
       "      <td>Y</td>\n",
       "    </tr>\n",
       "    <tr>\n",
       "      <th>4</th>\n",
       "      <td>Male</td>\n",
       "      <td>No</td>\n",
       "      <td>0</td>\n",
       "      <td>Graduate</td>\n",
       "      <td>No</td>\n",
       "      <td>600000</td>\n",
       "      <td>0.0</td>\n",
       "      <td>14100000</td>\n",
       "      <td>360.0</td>\n",
       "      <td>1.0</td>\n",
       "      <td>Urban</td>\n",
       "      <td>Y</td>\n",
       "    </tr>\n",
       "    <tr>\n",
       "      <th>...</th>\n",
       "      <td>...</td>\n",
       "      <td>...</td>\n",
       "      <td>...</td>\n",
       "      <td>...</td>\n",
       "      <td>...</td>\n",
       "      <td>...</td>\n",
       "      <td>...</td>\n",
       "      <td>...</td>\n",
       "      <td>...</td>\n",
       "      <td>...</td>\n",
       "      <td>...</td>\n",
       "      <td>...</td>\n",
       "    </tr>\n",
       "    <tr>\n",
       "      <th>609</th>\n",
       "      <td>Female</td>\n",
       "      <td>No</td>\n",
       "      <td>0</td>\n",
       "      <td>Graduate</td>\n",
       "      <td>No</td>\n",
       "      <td>290000</td>\n",
       "      <td>0.0</td>\n",
       "      <td>7100000</td>\n",
       "      <td>360.0</td>\n",
       "      <td>1.0</td>\n",
       "      <td>Rural</td>\n",
       "      <td>Y</td>\n",
       "    </tr>\n",
       "    <tr>\n",
       "      <th>610</th>\n",
       "      <td>Male</td>\n",
       "      <td>Yes</td>\n",
       "      <td>3+</td>\n",
       "      <td>Graduate</td>\n",
       "      <td>No</td>\n",
       "      <td>410600</td>\n",
       "      <td>0.0</td>\n",
       "      <td>4000000</td>\n",
       "      <td>180.0</td>\n",
       "      <td>1.0</td>\n",
       "      <td>Rural</td>\n",
       "      <td>Y</td>\n",
       "    </tr>\n",
       "    <tr>\n",
       "      <th>611</th>\n",
       "      <td>Male</td>\n",
       "      <td>Yes</td>\n",
       "      <td>1</td>\n",
       "      <td>Graduate</td>\n",
       "      <td>No</td>\n",
       "      <td>807200</td>\n",
       "      <td>24000.0</td>\n",
       "      <td>25300000</td>\n",
       "      <td>360.0</td>\n",
       "      <td>1.0</td>\n",
       "      <td>Urban</td>\n",
       "      <td>Y</td>\n",
       "    </tr>\n",
       "    <tr>\n",
       "      <th>612</th>\n",
       "      <td>Male</td>\n",
       "      <td>Yes</td>\n",
       "      <td>2</td>\n",
       "      <td>Graduate</td>\n",
       "      <td>No</td>\n",
       "      <td>758300</td>\n",
       "      <td>0.0</td>\n",
       "      <td>18700000</td>\n",
       "      <td>360.0</td>\n",
       "      <td>1.0</td>\n",
       "      <td>Urban</td>\n",
       "      <td>Y</td>\n",
       "    </tr>\n",
       "    <tr>\n",
       "      <th>613</th>\n",
       "      <td>Female</td>\n",
       "      <td>No</td>\n",
       "      <td>0</td>\n",
       "      <td>Graduate</td>\n",
       "      <td>Yes</td>\n",
       "      <td>458300</td>\n",
       "      <td>0.0</td>\n",
       "      <td>13300000</td>\n",
       "      <td>360.0</td>\n",
       "      <td>0.0</td>\n",
       "      <td>Semiurban</td>\n",
       "      <td>N</td>\n",
       "    </tr>\n",
       "  </tbody>\n",
       "</table>\n",
       "<p>614 rows × 12 columns</p>\n",
       "</div>"
      ],
      "text/plain": [
       "     Gender Married Dependents     Education Self_Employed  Applicant_Income  \\\n",
       "0      Male      No          0      Graduate            No            584900   \n",
       "1      Male     Yes          1      Graduate            No            458300   \n",
       "2      Male     Yes          0      Graduate           Yes            300000   \n",
       "3      Male     Yes          0  Not Graduate            No            258300   \n",
       "4      Male      No          0      Graduate            No            600000   \n",
       "..      ...     ...        ...           ...           ...               ...   \n",
       "609  Female      No          0      Graduate            No            290000   \n",
       "610    Male     Yes         3+      Graduate            No            410600   \n",
       "611    Male     Yes          1      Graduate            No            807200   \n",
       "612    Male     Yes          2      Graduate            No            758300   \n",
       "613  Female      No          0      Graduate           Yes            458300   \n",
       "\n",
       "     Coapplicant_Income  Loan_Amount   Term  Credit_History       Area Status  \n",
       "0                   0.0     15000000  360.0             1.0      Urban      Y  \n",
       "1              150800.0     12800000  360.0             1.0      Rural      N  \n",
       "2                   0.0      6600000  360.0             1.0      Urban      Y  \n",
       "3              235800.0     12000000  360.0             1.0      Urban      Y  \n",
       "4                   0.0     14100000  360.0             1.0      Urban      Y  \n",
       "..                  ...          ...    ...             ...        ...    ...  \n",
       "609                 0.0      7100000  360.0             1.0      Rural      Y  \n",
       "610                 0.0      4000000  180.0             1.0      Rural      Y  \n",
       "611             24000.0     25300000  360.0             1.0      Urban      Y  \n",
       "612                 0.0     18700000  360.0             1.0      Urban      Y  \n",
       "613                 0.0     13300000  360.0             0.0  Semiurban      N  \n",
       "\n",
       "[614 rows x 12 columns]"
      ]
     },
     "execution_count": 2,
     "metadata": {},
     "output_type": "execute_result"
    }
   ],
   "source": [
    "import math\n",
    "df = pd.DataFrame(data)\n",
    "df"
   ]
  },
  {
   "cell_type": "code",
   "execution_count": 3,
   "metadata": {},
   "outputs": [
    {
     "data": {
      "text/html": [
       "<div>\n",
       "<style scoped>\n",
       "    .dataframe tbody tr th:only-of-type {\n",
       "        vertical-align: middle;\n",
       "    }\n",
       "\n",
       "    .dataframe tbody tr th {\n",
       "        vertical-align: top;\n",
       "    }\n",
       "\n",
       "    .dataframe thead th {\n",
       "        text-align: right;\n",
       "    }\n",
       "</style>\n",
       "<table border=\"1\" class=\"dataframe\">\n",
       "  <thead>\n",
       "    <tr style=\"text-align: right;\">\n",
       "      <th></th>\n",
       "      <th>Gender</th>\n",
       "      <th>Married</th>\n",
       "      <th>Dependents</th>\n",
       "      <th>Education</th>\n",
       "      <th>Self_Employed</th>\n",
       "      <th>Applicant_Income</th>\n",
       "      <th>Coapplicant_Income</th>\n",
       "      <th>Loan_Amount</th>\n",
       "      <th>Term</th>\n",
       "      <th>Credit_History</th>\n",
       "      <th>Area</th>\n",
       "      <th>Status</th>\n",
       "    </tr>\n",
       "  </thead>\n",
       "  <tbody>\n",
       "    <tr>\n",
       "      <th>0</th>\n",
       "      <td>Male</td>\n",
       "      <td>No</td>\n",
       "      <td>0</td>\n",
       "      <td>Graduate</td>\n",
       "      <td>No</td>\n",
       "      <td>584900</td>\n",
       "      <td>0.0</td>\n",
       "      <td>15000000</td>\n",
       "      <td>360.0</td>\n",
       "      <td>1.0</td>\n",
       "      <td>Urban</td>\n",
       "      <td>Y</td>\n",
       "    </tr>\n",
       "    <tr>\n",
       "      <th>1</th>\n",
       "      <td>Male</td>\n",
       "      <td>Yes</td>\n",
       "      <td>1</td>\n",
       "      <td>Graduate</td>\n",
       "      <td>No</td>\n",
       "      <td>458300</td>\n",
       "      <td>150800.0</td>\n",
       "      <td>12800000</td>\n",
       "      <td>360.0</td>\n",
       "      <td>1.0</td>\n",
       "      <td>Rural</td>\n",
       "      <td>N</td>\n",
       "    </tr>\n",
       "    <tr>\n",
       "      <th>2</th>\n",
       "      <td>Male</td>\n",
       "      <td>Yes</td>\n",
       "      <td>0</td>\n",
       "      <td>Graduate</td>\n",
       "      <td>Yes</td>\n",
       "      <td>300000</td>\n",
       "      <td>0.0</td>\n",
       "      <td>6600000</td>\n",
       "      <td>360.0</td>\n",
       "      <td>1.0</td>\n",
       "      <td>Urban</td>\n",
       "      <td>Y</td>\n",
       "    </tr>\n",
       "    <tr>\n",
       "      <th>3</th>\n",
       "      <td>Male</td>\n",
       "      <td>Yes</td>\n",
       "      <td>0</td>\n",
       "      <td>Not Graduate</td>\n",
       "      <td>No</td>\n",
       "      <td>258300</td>\n",
       "      <td>235800.0</td>\n",
       "      <td>12000000</td>\n",
       "      <td>360.0</td>\n",
       "      <td>1.0</td>\n",
       "      <td>Urban</td>\n",
       "      <td>Y</td>\n",
       "    </tr>\n",
       "    <tr>\n",
       "      <th>4</th>\n",
       "      <td>Male</td>\n",
       "      <td>No</td>\n",
       "      <td>0</td>\n",
       "      <td>Graduate</td>\n",
       "      <td>No</td>\n",
       "      <td>600000</td>\n",
       "      <td>0.0</td>\n",
       "      <td>14100000</td>\n",
       "      <td>360.0</td>\n",
       "      <td>1.0</td>\n",
       "      <td>Urban</td>\n",
       "      <td>Y</td>\n",
       "    </tr>\n",
       "    <tr>\n",
       "      <th>5</th>\n",
       "      <td>Male</td>\n",
       "      <td>Yes</td>\n",
       "      <td>2</td>\n",
       "      <td>Graduate</td>\n",
       "      <td>Yes</td>\n",
       "      <td>541700</td>\n",
       "      <td>419600.0</td>\n",
       "      <td>26700000</td>\n",
       "      <td>360.0</td>\n",
       "      <td>1.0</td>\n",
       "      <td>Urban</td>\n",
       "      <td>Y</td>\n",
       "    </tr>\n",
       "    <tr>\n",
       "      <th>6</th>\n",
       "      <td>Male</td>\n",
       "      <td>Yes</td>\n",
       "      <td>0</td>\n",
       "      <td>Not Graduate</td>\n",
       "      <td>No</td>\n",
       "      <td>233300</td>\n",
       "      <td>151600.0</td>\n",
       "      <td>9500000</td>\n",
       "      <td>360.0</td>\n",
       "      <td>1.0</td>\n",
       "      <td>Urban</td>\n",
       "      <td>Y</td>\n",
       "    </tr>\n",
       "    <tr>\n",
       "      <th>7</th>\n",
       "      <td>Male</td>\n",
       "      <td>Yes</td>\n",
       "      <td>3+</td>\n",
       "      <td>Graduate</td>\n",
       "      <td>No</td>\n",
       "      <td>303600</td>\n",
       "      <td>250400.0</td>\n",
       "      <td>15800000</td>\n",
       "      <td>360.0</td>\n",
       "      <td>0.0</td>\n",
       "      <td>Semiurban</td>\n",
       "      <td>N</td>\n",
       "    </tr>\n",
       "    <tr>\n",
       "      <th>8</th>\n",
       "      <td>Male</td>\n",
       "      <td>Yes</td>\n",
       "      <td>2</td>\n",
       "      <td>Graduate</td>\n",
       "      <td>No</td>\n",
       "      <td>400600</td>\n",
       "      <td>152600.0</td>\n",
       "      <td>16800000</td>\n",
       "      <td>360.0</td>\n",
       "      <td>1.0</td>\n",
       "      <td>Urban</td>\n",
       "      <td>Y</td>\n",
       "    </tr>\n",
       "    <tr>\n",
       "      <th>9</th>\n",
       "      <td>Male</td>\n",
       "      <td>Yes</td>\n",
       "      <td>1</td>\n",
       "      <td>Graduate</td>\n",
       "      <td>No</td>\n",
       "      <td>1284100</td>\n",
       "      <td>1096800.0</td>\n",
       "      <td>34900000</td>\n",
       "      <td>360.0</td>\n",
       "      <td>1.0</td>\n",
       "      <td>Semiurban</td>\n",
       "      <td>N</td>\n",
       "    </tr>\n",
       "    <tr>\n",
       "      <th>10</th>\n",
       "      <td>Male</td>\n",
       "      <td>Yes</td>\n",
       "      <td>2</td>\n",
       "      <td>Graduate</td>\n",
       "      <td>No</td>\n",
       "      <td>320000</td>\n",
       "      <td>70000.0</td>\n",
       "      <td>7000000</td>\n",
       "      <td>360.0</td>\n",
       "      <td>1.0</td>\n",
       "      <td>Urban</td>\n",
       "      <td>Y</td>\n",
       "    </tr>\n",
       "    <tr>\n",
       "      <th>11</th>\n",
       "      <td>Male</td>\n",
       "      <td>Yes</td>\n",
       "      <td>2</td>\n",
       "      <td>Graduate</td>\n",
       "      <td>NaN</td>\n",
       "      <td>250000</td>\n",
       "      <td>184000.0</td>\n",
       "      <td>10900000</td>\n",
       "      <td>360.0</td>\n",
       "      <td>1.0</td>\n",
       "      <td>Urban</td>\n",
       "      <td>Y</td>\n",
       "    </tr>\n",
       "    <tr>\n",
       "      <th>12</th>\n",
       "      <td>Male</td>\n",
       "      <td>Yes</td>\n",
       "      <td>2</td>\n",
       "      <td>Graduate</td>\n",
       "      <td>No</td>\n",
       "      <td>307300</td>\n",
       "      <td>810600.0</td>\n",
       "      <td>20000000</td>\n",
       "      <td>360.0</td>\n",
       "      <td>1.0</td>\n",
       "      <td>Urban</td>\n",
       "      <td>Y</td>\n",
       "    </tr>\n",
       "    <tr>\n",
       "      <th>13</th>\n",
       "      <td>Male</td>\n",
       "      <td>No</td>\n",
       "      <td>0</td>\n",
       "      <td>Graduate</td>\n",
       "      <td>No</td>\n",
       "      <td>185300</td>\n",
       "      <td>284000.0</td>\n",
       "      <td>11400000</td>\n",
       "      <td>360.0</td>\n",
       "      <td>1.0</td>\n",
       "      <td>Rural</td>\n",
       "      <td>N</td>\n",
       "    </tr>\n",
       "    <tr>\n",
       "      <th>14</th>\n",
       "      <td>Male</td>\n",
       "      <td>Yes</td>\n",
       "      <td>2</td>\n",
       "      <td>Graduate</td>\n",
       "      <td>No</td>\n",
       "      <td>129900</td>\n",
       "      <td>108600.0</td>\n",
       "      <td>1700000</td>\n",
       "      <td>120.0</td>\n",
       "      <td>1.0</td>\n",
       "      <td>Urban</td>\n",
       "      <td>Y</td>\n",
       "    </tr>\n",
       "    <tr>\n",
       "      <th>15</th>\n",
       "      <td>Male</td>\n",
       "      <td>No</td>\n",
       "      <td>0</td>\n",
       "      <td>Graduate</td>\n",
       "      <td>No</td>\n",
       "      <td>495000</td>\n",
       "      <td>0.0</td>\n",
       "      <td>12500000</td>\n",
       "      <td>360.0</td>\n",
       "      <td>1.0</td>\n",
       "      <td>Urban</td>\n",
       "      <td>Y</td>\n",
       "    </tr>\n",
       "    <tr>\n",
       "      <th>16</th>\n",
       "      <td>Male</td>\n",
       "      <td>No</td>\n",
       "      <td>1</td>\n",
       "      <td>Not Graduate</td>\n",
       "      <td>No</td>\n",
       "      <td>359600</td>\n",
       "      <td>0.0</td>\n",
       "      <td>10000000</td>\n",
       "      <td>240.0</td>\n",
       "      <td>NaN</td>\n",
       "      <td>Urban</td>\n",
       "      <td>Y</td>\n",
       "    </tr>\n",
       "    <tr>\n",
       "      <th>17</th>\n",
       "      <td>Female</td>\n",
       "      <td>No</td>\n",
       "      <td>0</td>\n",
       "      <td>Graduate</td>\n",
       "      <td>No</td>\n",
       "      <td>351000</td>\n",
       "      <td>0.0</td>\n",
       "      <td>7600000</td>\n",
       "      <td>360.0</td>\n",
       "      <td>0.0</td>\n",
       "      <td>Urban</td>\n",
       "      <td>N</td>\n",
       "    </tr>\n",
       "    <tr>\n",
       "      <th>18</th>\n",
       "      <td>Male</td>\n",
       "      <td>Yes</td>\n",
       "      <td>0</td>\n",
       "      <td>Not Graduate</td>\n",
       "      <td>No</td>\n",
       "      <td>488700</td>\n",
       "      <td>0.0</td>\n",
       "      <td>13300000</td>\n",
       "      <td>360.0</td>\n",
       "      <td>1.0</td>\n",
       "      <td>Rural</td>\n",
       "      <td>N</td>\n",
       "    </tr>\n",
       "    <tr>\n",
       "      <th>19</th>\n",
       "      <td>Male</td>\n",
       "      <td>Yes</td>\n",
       "      <td>0</td>\n",
       "      <td>Graduate</td>\n",
       "      <td>NaN</td>\n",
       "      <td>260000</td>\n",
       "      <td>350000.0</td>\n",
       "      <td>11500000</td>\n",
       "      <td>NaN</td>\n",
       "      <td>1.0</td>\n",
       "      <td>Urban</td>\n",
       "      <td>Y</td>\n",
       "    </tr>\n",
       "  </tbody>\n",
       "</table>\n",
       "</div>"
      ],
      "text/plain": [
       "    Gender Married Dependents     Education Self_Employed  Applicant_Income  \\\n",
       "0     Male      No          0      Graduate            No            584900   \n",
       "1     Male     Yes          1      Graduate            No            458300   \n",
       "2     Male     Yes          0      Graduate           Yes            300000   \n",
       "3     Male     Yes          0  Not Graduate            No            258300   \n",
       "4     Male      No          0      Graduate            No            600000   \n",
       "5     Male     Yes          2      Graduate           Yes            541700   \n",
       "6     Male     Yes          0  Not Graduate            No            233300   \n",
       "7     Male     Yes         3+      Graduate            No            303600   \n",
       "8     Male     Yes          2      Graduate            No            400600   \n",
       "9     Male     Yes          1      Graduate            No           1284100   \n",
       "10    Male     Yes          2      Graduate            No            320000   \n",
       "11    Male     Yes          2      Graduate           NaN            250000   \n",
       "12    Male     Yes          2      Graduate            No            307300   \n",
       "13    Male      No          0      Graduate            No            185300   \n",
       "14    Male     Yes          2      Graduate            No            129900   \n",
       "15    Male      No          0      Graduate            No            495000   \n",
       "16    Male      No          1  Not Graduate            No            359600   \n",
       "17  Female      No          0      Graduate            No            351000   \n",
       "18    Male     Yes          0  Not Graduate            No            488700   \n",
       "19    Male     Yes          0      Graduate           NaN            260000   \n",
       "\n",
       "    Coapplicant_Income  Loan_Amount   Term  Credit_History       Area Status  \n",
       "0                  0.0     15000000  360.0             1.0      Urban      Y  \n",
       "1             150800.0     12800000  360.0             1.0      Rural      N  \n",
       "2                  0.0      6600000  360.0             1.0      Urban      Y  \n",
       "3             235800.0     12000000  360.0             1.0      Urban      Y  \n",
       "4                  0.0     14100000  360.0             1.0      Urban      Y  \n",
       "5             419600.0     26700000  360.0             1.0      Urban      Y  \n",
       "6             151600.0      9500000  360.0             1.0      Urban      Y  \n",
       "7             250400.0     15800000  360.0             0.0  Semiurban      N  \n",
       "8             152600.0     16800000  360.0             1.0      Urban      Y  \n",
       "9            1096800.0     34900000  360.0             1.0  Semiurban      N  \n",
       "10             70000.0      7000000  360.0             1.0      Urban      Y  \n",
       "11            184000.0     10900000  360.0             1.0      Urban      Y  \n",
       "12            810600.0     20000000  360.0             1.0      Urban      Y  \n",
       "13            284000.0     11400000  360.0             1.0      Rural      N  \n",
       "14            108600.0      1700000  120.0             1.0      Urban      Y  \n",
       "15                 0.0     12500000  360.0             1.0      Urban      Y  \n",
       "16                 0.0     10000000  240.0             NaN      Urban      Y  \n",
       "17                 0.0      7600000  360.0             0.0      Urban      N  \n",
       "18                 0.0     13300000  360.0             1.0      Rural      N  \n",
       "19            350000.0     11500000    NaN             1.0      Urban      Y  "
      ]
     },
     "execution_count": 3,
     "metadata": {},
     "output_type": "execute_result"
    }
   ],
   "source": [
    "df[:20]"
   ]
  },
  {
   "cell_type": "code",
   "execution_count": 4,
   "metadata": {},
   "outputs": [
    {
     "data": {
      "text/html": [
       "<div>\n",
       "<style scoped>\n",
       "    .dataframe tbody tr th:only-of-type {\n",
       "        vertical-align: middle;\n",
       "    }\n",
       "\n",
       "    .dataframe tbody tr th {\n",
       "        vertical-align: top;\n",
       "    }\n",
       "\n",
       "    .dataframe thead th {\n",
       "        text-align: right;\n",
       "    }\n",
       "</style>\n",
       "<table border=\"1\" class=\"dataframe\">\n",
       "  <thead>\n",
       "    <tr style=\"text-align: right;\">\n",
       "      <th></th>\n",
       "      <th>Gender</th>\n",
       "      <th>Married</th>\n",
       "      <th>Dependents</th>\n",
       "      <th>Education</th>\n",
       "      <th>Self_Employed</th>\n",
       "      <th>Applicant_Income</th>\n",
       "      <th>Coapplicant_Income</th>\n",
       "      <th>Loan_Amount</th>\n",
       "      <th>Term</th>\n",
       "      <th>Credit_History</th>\n",
       "      <th>Area</th>\n",
       "      <th>Status</th>\n",
       "    </tr>\n",
       "  </thead>\n",
       "  <tbody>\n",
       "    <tr>\n",
       "      <th>0</th>\n",
       "      <td>Male</td>\n",
       "      <td>No</td>\n",
       "      <td>0</td>\n",
       "      <td>Graduate</td>\n",
       "      <td>No</td>\n",
       "      <td>584900</td>\n",
       "      <td>0.0</td>\n",
       "      <td>15000000</td>\n",
       "      <td>360.0</td>\n",
       "      <td>1.0</td>\n",
       "      <td>Urban</td>\n",
       "      <td>Y</td>\n",
       "    </tr>\n",
       "    <tr>\n",
       "      <th>1</th>\n",
       "      <td>Male</td>\n",
       "      <td>Yes</td>\n",
       "      <td>1</td>\n",
       "      <td>Graduate</td>\n",
       "      <td>No</td>\n",
       "      <td>458300</td>\n",
       "      <td>150800.0</td>\n",
       "      <td>12800000</td>\n",
       "      <td>360.0</td>\n",
       "      <td>1.0</td>\n",
       "      <td>Rural</td>\n",
       "      <td>N</td>\n",
       "    </tr>\n",
       "  </tbody>\n",
       "</table>\n",
       "</div>"
      ],
      "text/plain": [
       "  Gender Married Dependents Education Self_Employed  Applicant_Income  \\\n",
       "0   Male      No          0  Graduate            No            584900   \n",
       "1   Male     Yes          1  Graduate            No            458300   \n",
       "\n",
       "   Coapplicant_Income  Loan_Amount   Term  Credit_History   Area Status  \n",
       "0                 0.0     15000000  360.0             1.0  Urban      Y  \n",
       "1            150800.0     12800000  360.0             1.0  Rural      N  "
      ]
     },
     "execution_count": 4,
     "metadata": {},
     "output_type": "execute_result"
    }
   ],
   "source": [
    "df[:2]"
   ]
  },
  {
   "cell_type": "code",
   "execution_count": 5,
   "metadata": {},
   "outputs": [
    {
     "name": "stdout",
     "output_type": "stream",
     "text": [
      "13\n"
     ]
    }
   ],
   "source": [
    "\n",
    "null_count = df['Gender'].isnull().sum()\n",
    "print(null_count)\n"
   ]
  },
  {
   "cell_type": "code",
   "execution_count": 6,
   "metadata": {},
   "outputs": [],
   "source": [
    "df['Gender'] = df['Gender'].fillna(df['Gender'].mode()[0])"
   ]
  },
  {
   "cell_type": "code",
   "execution_count": 7,
   "metadata": {},
   "outputs": [
    {
     "name": "stdout",
     "output_type": "stream",
     "text": [
      "0\n"
     ]
    }
   ],
   "source": [
    "\n",
    "null_count = df['Gender'].isnull().sum()\n",
    "print(null_count)\n"
   ]
  },
  {
   "cell_type": "code",
   "execution_count": 8,
   "metadata": {},
   "outputs": [
    {
     "name": "stdout",
     "output_type": "stream",
     "text": [
      "3\n"
     ]
    }
   ],
   "source": [
    "null_count = df['Married'].isnull().sum()\n",
    "print(null_count)\n"
   ]
  },
  {
   "cell_type": "code",
   "execution_count": 9,
   "metadata": {},
   "outputs": [],
   "source": [
    "df['Married'] = df['Married'].fillna(df['Married'].mode()[0])"
   ]
  },
  {
   "cell_type": "code",
   "execution_count": 10,
   "metadata": {},
   "outputs": [
    {
     "name": "stdout",
     "output_type": "stream",
     "text": [
      "0\n"
     ]
    }
   ],
   "source": [
    "null_count = df['Married'].isnull().sum()\n",
    "print(null_count)\n"
   ]
  },
  {
   "cell_type": "code",
   "execution_count": 11,
   "metadata": {},
   "outputs": [
    {
     "name": "stdout",
     "output_type": "stream",
     "text": [
      "15\n"
     ]
    }
   ],
   "source": [
    "null_count = df['Dependents'].isnull().sum()\n",
    "print(null_count)\n"
   ]
  },
  {
   "cell_type": "code",
   "execution_count": 12,
   "metadata": {},
   "outputs": [],
   "source": [
    "df['Dependents'] = df['Dependents'].fillna(df['Dependents'].mode()[0])\n"
   ]
  },
  {
   "cell_type": "code",
   "execution_count": 13,
   "metadata": {},
   "outputs": [
    {
     "data": {
      "text/plain": [
       "0    0\n",
       "Name: Dependents, dtype: object"
      ]
     },
     "execution_count": 13,
     "metadata": {},
     "output_type": "execute_result"
    }
   ],
   "source": [
    "df['Dependents'].mode()"
   ]
  },
  {
   "cell_type": "code",
   "execution_count": 14,
   "metadata": {},
   "outputs": [
    {
     "name": "stdout",
     "output_type": "stream",
     "text": [
      "0\n"
     ]
    }
   ],
   "source": [
    "null_count = df['Dependents'].isnull().sum()\n",
    "print(null_count)\n"
   ]
  },
  {
   "cell_type": "code",
   "execution_count": 15,
   "metadata": {},
   "outputs": [
    {
     "name": "stdout",
     "output_type": "stream",
     "text": [
      "0\n"
     ]
    }
   ],
   "source": [
    "null_count = df['Education'].isnull().sum()\n",
    "print(null_count)\n"
   ]
  },
  {
   "cell_type": "code",
   "execution_count": 16,
   "metadata": {},
   "outputs": [
    {
     "data": {
      "text/plain": [
       "32"
      ]
     },
     "execution_count": 16,
     "metadata": {},
     "output_type": "execute_result"
    }
   ],
   "source": [
    "#Self_Employed\t\n",
    "n = df['Self_Employed'].isnull().sum()\n",
    "n"
   ]
  },
  {
   "cell_type": "code",
   "execution_count": 17,
   "metadata": {},
   "outputs": [
    {
     "data": {
      "text/plain": [
       "0    No\n",
       "Name: Self_Employed, dtype: object"
      ]
     },
     "execution_count": 17,
     "metadata": {},
     "output_type": "execute_result"
    }
   ],
   "source": [
    "df['Self_Employed'].mode()"
   ]
  },
  {
   "cell_type": "code",
   "execution_count": 18,
   "metadata": {},
   "outputs": [],
   "source": [
    "df['Self_Employed'] = df['Self_Employed'].fillna(df['Self_Employed'].mode()[0])"
   ]
  },
  {
   "cell_type": "code",
   "execution_count": 19,
   "metadata": {},
   "outputs": [
    {
     "data": {
      "text/plain": [
       "0"
      ]
     },
     "execution_count": 19,
     "metadata": {},
     "output_type": "execute_result"
    }
   ],
   "source": [
    "#Applicant_Income\tCoapplicant_Income\tLoan_Amount\tTerm\tCredit_History\tArea\tStatus\n",
    "n = df['Applicant_Income'].isnull().sum()\n",
    "n"
   ]
  },
  {
   "cell_type": "code",
   "execution_count": 20,
   "metadata": {},
   "outputs": [
    {
     "data": {
      "text/plain": [
       "0"
      ]
     },
     "execution_count": 20,
     "metadata": {},
     "output_type": "execute_result"
    }
   ],
   "source": [
    "n = df['Coapplicant_Income'].isnull().sum()\n",
    "n"
   ]
  },
  {
   "cell_type": "code",
   "execution_count": 21,
   "metadata": {},
   "outputs": [
    {
     "data": {
      "text/plain": [
       "0"
      ]
     },
     "execution_count": 21,
     "metadata": {},
     "output_type": "execute_result"
    }
   ],
   "source": [
    "#Loan_Amount\tTerm\tCredit_History\tArea\tStatus\n",
    "n = df['Loan_Amount'].isnull().sum()\n",
    "n"
   ]
  },
  {
   "cell_type": "code",
   "execution_count": 22,
   "metadata": {},
   "outputs": [
    {
     "data": {
      "text/plain": [
       "14"
      ]
     },
     "execution_count": 22,
     "metadata": {},
     "output_type": "execute_result"
    }
   ],
   "source": [
    "n = df['Term'].isnull().sum()\n",
    "n"
   ]
  },
  {
   "cell_type": "code",
   "execution_count": 23,
   "metadata": {},
   "outputs": [
    {
     "name": "stderr",
     "output_type": "stream",
     "text": [
      "C:\\Users\\Dell\\AppData\\Local\\Temp\\ipykernel_42164\\3318286922.py:1: FutureWarning: A value is trying to be set on a copy of a DataFrame or Series through chained assignment using an inplace method.\n",
      "The behavior will change in pandas 3.0. This inplace method will never work because the intermediate object on which we are setting values always behaves as a copy.\n",
      "\n",
      "For example, when doing 'df[col].method(value, inplace=True)', try using 'df.method({col: value}, inplace=True)' or df[col] = df[col].method(value) instead, to perform the operation inplace on the original object.\n",
      "\n",
      "\n",
      "  df['Term'].fillna(df['Term'].median(), inplace=True)\n"
     ]
    }
   ],
   "source": [
    "df['Term'].fillna(df['Term'].median(), inplace=True)"
   ]
  },
  {
   "cell_type": "code",
   "execution_count": 24,
   "metadata": {},
   "outputs": [
    {
     "data": {
      "text/plain": [
       "0"
      ]
     },
     "execution_count": 24,
     "metadata": {},
     "output_type": "execute_result"
    }
   ],
   "source": [
    "n = df['Term'].isnull().sum()\n",
    "n"
   ]
  },
  {
   "cell_type": "code",
   "execution_count": 25,
   "metadata": {},
   "outputs": [
    {
     "data": {
      "text/plain": [
       "50"
      ]
     },
     "execution_count": 25,
     "metadata": {},
     "output_type": "execute_result"
    }
   ],
   "source": [
    "#Credit_History\tArea\tStatus\n",
    "n = df['Credit_History'].isnull().sum()\n",
    "n"
   ]
  },
  {
   "cell_type": "code",
   "execution_count": 26,
   "metadata": {},
   "outputs": [
    {
     "data": {
      "text/plain": [
       "0    1.0\n",
       "1    1.0\n",
       "2    1.0\n",
       "3    1.0\n",
       "4    1.0\n",
       "5    1.0\n",
       "6    1.0\n",
       "7    0.0\n",
       "8    1.0\n",
       "9    1.0\n",
       "Name: Credit_History, dtype: float64"
      ]
     },
     "execution_count": 26,
     "metadata": {},
     "output_type": "execute_result"
    }
   ],
   "source": [
    "df['Credit_History'].head(10)"
   ]
  },
  {
   "cell_type": "code",
   "execution_count": 27,
   "metadata": {},
   "outputs": [
    {
     "data": {
      "text/plain": [
       "0.8421985815602837"
      ]
     },
     "execution_count": 27,
     "metadata": {},
     "output_type": "execute_result"
    }
   ],
   "source": [
    "df['Credit_History'].mean()"
   ]
  },
  {
   "cell_type": "code",
   "execution_count": 28,
   "metadata": {},
   "outputs": [
    {
     "data": {
      "text/plain": [
       "1.0"
      ]
     },
     "execution_count": 28,
     "metadata": {},
     "output_type": "execute_result"
    }
   ],
   "source": [
    "df['Credit_History'].median()"
   ]
  },
  {
   "cell_type": "code",
   "execution_count": 29,
   "metadata": {},
   "outputs": [
    {
     "name": "stderr",
     "output_type": "stream",
     "text": [
      "C:\\Users\\Dell\\AppData\\Local\\Temp\\ipykernel_42164\\28219182.py:2: FutureWarning: A value is trying to be set on a copy of a DataFrame or Series through chained assignment using an inplace method.\n",
      "The behavior will change in pandas 3.0. This inplace method will never work because the intermediate object on which we are setting values always behaves as a copy.\n",
      "\n",
      "For example, when doing 'df[col].method(value, inplace=True)', try using 'df.method({col: value}, inplace=True)' or df[col] = df[col].method(value) instead, to perform the operation inplace on the original object.\n",
      "\n",
      "\n",
      "  df['Credit_History'].fillna(df['Credit_History'].median(), inplace=True)\n"
     ]
    }
   ],
   "source": [
    "#df['Credit_History'] = df['Credit_History'].apply(lambda x: np.random.choice([1, 0]) if pd.isna(x) else x)\n",
    "df['Credit_History'].fillna(df['Credit_History'].median(), inplace=True)"
   ]
  },
  {
   "cell_type": "code",
   "execution_count": 30,
   "metadata": {},
   "outputs": [
    {
     "data": {
      "text/plain": [
       "0"
      ]
     },
     "execution_count": 30,
     "metadata": {},
     "output_type": "execute_result"
    }
   ],
   "source": [
    "n = df['Credit_History'].isnull().sum()\n",
    "n"
   ]
  },
  {
   "cell_type": "code",
   "execution_count": 31,
   "metadata": {},
   "outputs": [
    {
     "data": {
      "text/plain": [
       "0"
      ]
     },
     "execution_count": 31,
     "metadata": {},
     "output_type": "execute_result"
    }
   ],
   "source": [
    "n = df['Area'].isnull().sum()\n",
    "n"
   ]
  },
  {
   "cell_type": "code",
   "execution_count": 32,
   "metadata": {},
   "outputs": [
    {
     "data": {
      "text/plain": [
       "0"
      ]
     },
     "execution_count": 32,
     "metadata": {},
     "output_type": "execute_result"
    }
   ],
   "source": [
    "n = df['Status'].isnull().sum()\n",
    "n"
   ]
  },
  {
   "cell_type": "code",
   "execution_count": 33,
   "metadata": {},
   "outputs": [],
   "source": [
    "import numpy as np\n",
    "#df['Gender'] = df['Gender'].map({'Male': 1, 'Female': 0})\n",
    "#df['Married'] = df['Married'].map({'Yes': 1, 'No': 0})\n",
    "#df['Self_Employed'] = df['Self_Employed'].fillna(df['Self_Employed'].mode()[0])\n",
    "#df['Self_Employed'] = df['Self_Employed'].apply(lambda x: np.random.choice(['Yes', 'No']) if pd.isna(x) else x)\n",
    "#df['Term'].fillna(df['Term'].mean(), inplace=True)\n",
    "#df['Credit_History'] = df['Credit_History'].apply(lambda x: np.random.choice([1, 0]) if pd.isna(x) else x)\n"
   ]
  },
  {
   "cell_type": "code",
   "execution_count": 34,
   "metadata": {},
   "outputs": [
    {
     "data": {
      "text/html": [
       "<div>\n",
       "<style scoped>\n",
       "    .dataframe tbody tr th:only-of-type {\n",
       "        vertical-align: middle;\n",
       "    }\n",
       "\n",
       "    .dataframe tbody tr th {\n",
       "        vertical-align: top;\n",
       "    }\n",
       "\n",
       "    .dataframe thead th {\n",
       "        text-align: right;\n",
       "    }\n",
       "</style>\n",
       "<table border=\"1\" class=\"dataframe\">\n",
       "  <thead>\n",
       "    <tr style=\"text-align: right;\">\n",
       "      <th></th>\n",
       "      <th>Gender</th>\n",
       "      <th>Married</th>\n",
       "      <th>Dependents</th>\n",
       "      <th>Education</th>\n",
       "      <th>Self_Employed</th>\n",
       "      <th>Applicant_Income</th>\n",
       "      <th>Coapplicant_Income</th>\n",
       "      <th>Loan_Amount</th>\n",
       "      <th>Term</th>\n",
       "      <th>Credit_History</th>\n",
       "      <th>Area</th>\n",
       "      <th>Status</th>\n",
       "    </tr>\n",
       "  </thead>\n",
       "  <tbody>\n",
       "    <tr>\n",
       "      <th>0</th>\n",
       "      <td>Male</td>\n",
       "      <td>No</td>\n",
       "      <td>0</td>\n",
       "      <td>Graduate</td>\n",
       "      <td>No</td>\n",
       "      <td>584900</td>\n",
       "      <td>0.0</td>\n",
       "      <td>15000000</td>\n",
       "      <td>360.0</td>\n",
       "      <td>1.0</td>\n",
       "      <td>Urban</td>\n",
       "      <td>Y</td>\n",
       "    </tr>\n",
       "    <tr>\n",
       "      <th>1</th>\n",
       "      <td>Male</td>\n",
       "      <td>Yes</td>\n",
       "      <td>1</td>\n",
       "      <td>Graduate</td>\n",
       "      <td>No</td>\n",
       "      <td>458300</td>\n",
       "      <td>150800.0</td>\n",
       "      <td>12800000</td>\n",
       "      <td>360.0</td>\n",
       "      <td>1.0</td>\n",
       "      <td>Rural</td>\n",
       "      <td>N</td>\n",
       "    </tr>\n",
       "    <tr>\n",
       "      <th>2</th>\n",
       "      <td>Male</td>\n",
       "      <td>Yes</td>\n",
       "      <td>0</td>\n",
       "      <td>Graduate</td>\n",
       "      <td>Yes</td>\n",
       "      <td>300000</td>\n",
       "      <td>0.0</td>\n",
       "      <td>6600000</td>\n",
       "      <td>360.0</td>\n",
       "      <td>1.0</td>\n",
       "      <td>Urban</td>\n",
       "      <td>Y</td>\n",
       "    </tr>\n",
       "    <tr>\n",
       "      <th>3</th>\n",
       "      <td>Male</td>\n",
       "      <td>Yes</td>\n",
       "      <td>0</td>\n",
       "      <td>Not Graduate</td>\n",
       "      <td>No</td>\n",
       "      <td>258300</td>\n",
       "      <td>235800.0</td>\n",
       "      <td>12000000</td>\n",
       "      <td>360.0</td>\n",
       "      <td>1.0</td>\n",
       "      <td>Urban</td>\n",
       "      <td>Y</td>\n",
       "    </tr>\n",
       "    <tr>\n",
       "      <th>4</th>\n",
       "      <td>Male</td>\n",
       "      <td>No</td>\n",
       "      <td>0</td>\n",
       "      <td>Graduate</td>\n",
       "      <td>No</td>\n",
       "      <td>600000</td>\n",
       "      <td>0.0</td>\n",
       "      <td>14100000</td>\n",
       "      <td>360.0</td>\n",
       "      <td>1.0</td>\n",
       "      <td>Urban</td>\n",
       "      <td>Y</td>\n",
       "    </tr>\n",
       "    <tr>\n",
       "      <th>5</th>\n",
       "      <td>Male</td>\n",
       "      <td>Yes</td>\n",
       "      <td>2</td>\n",
       "      <td>Graduate</td>\n",
       "      <td>Yes</td>\n",
       "      <td>541700</td>\n",
       "      <td>419600.0</td>\n",
       "      <td>26700000</td>\n",
       "      <td>360.0</td>\n",
       "      <td>1.0</td>\n",
       "      <td>Urban</td>\n",
       "      <td>Y</td>\n",
       "    </tr>\n",
       "    <tr>\n",
       "      <th>6</th>\n",
       "      <td>Male</td>\n",
       "      <td>Yes</td>\n",
       "      <td>0</td>\n",
       "      <td>Not Graduate</td>\n",
       "      <td>No</td>\n",
       "      <td>233300</td>\n",
       "      <td>151600.0</td>\n",
       "      <td>9500000</td>\n",
       "      <td>360.0</td>\n",
       "      <td>1.0</td>\n",
       "      <td>Urban</td>\n",
       "      <td>Y</td>\n",
       "    </tr>\n",
       "    <tr>\n",
       "      <th>7</th>\n",
       "      <td>Male</td>\n",
       "      <td>Yes</td>\n",
       "      <td>3+</td>\n",
       "      <td>Graduate</td>\n",
       "      <td>No</td>\n",
       "      <td>303600</td>\n",
       "      <td>250400.0</td>\n",
       "      <td>15800000</td>\n",
       "      <td>360.0</td>\n",
       "      <td>0.0</td>\n",
       "      <td>Semiurban</td>\n",
       "      <td>N</td>\n",
       "    </tr>\n",
       "    <tr>\n",
       "      <th>8</th>\n",
       "      <td>Male</td>\n",
       "      <td>Yes</td>\n",
       "      <td>2</td>\n",
       "      <td>Graduate</td>\n",
       "      <td>No</td>\n",
       "      <td>400600</td>\n",
       "      <td>152600.0</td>\n",
       "      <td>16800000</td>\n",
       "      <td>360.0</td>\n",
       "      <td>1.0</td>\n",
       "      <td>Urban</td>\n",
       "      <td>Y</td>\n",
       "    </tr>\n",
       "    <tr>\n",
       "      <th>9</th>\n",
       "      <td>Male</td>\n",
       "      <td>Yes</td>\n",
       "      <td>1</td>\n",
       "      <td>Graduate</td>\n",
       "      <td>No</td>\n",
       "      <td>1284100</td>\n",
       "      <td>1096800.0</td>\n",
       "      <td>34900000</td>\n",
       "      <td>360.0</td>\n",
       "      <td>1.0</td>\n",
       "      <td>Semiurban</td>\n",
       "      <td>N</td>\n",
       "    </tr>\n",
       "    <tr>\n",
       "      <th>10</th>\n",
       "      <td>Male</td>\n",
       "      <td>Yes</td>\n",
       "      <td>2</td>\n",
       "      <td>Graduate</td>\n",
       "      <td>No</td>\n",
       "      <td>320000</td>\n",
       "      <td>70000.0</td>\n",
       "      <td>7000000</td>\n",
       "      <td>360.0</td>\n",
       "      <td>1.0</td>\n",
       "      <td>Urban</td>\n",
       "      <td>Y</td>\n",
       "    </tr>\n",
       "    <tr>\n",
       "      <th>11</th>\n",
       "      <td>Male</td>\n",
       "      <td>Yes</td>\n",
       "      <td>2</td>\n",
       "      <td>Graduate</td>\n",
       "      <td>No</td>\n",
       "      <td>250000</td>\n",
       "      <td>184000.0</td>\n",
       "      <td>10900000</td>\n",
       "      <td>360.0</td>\n",
       "      <td>1.0</td>\n",
       "      <td>Urban</td>\n",
       "      <td>Y</td>\n",
       "    </tr>\n",
       "    <tr>\n",
       "      <th>12</th>\n",
       "      <td>Male</td>\n",
       "      <td>Yes</td>\n",
       "      <td>2</td>\n",
       "      <td>Graduate</td>\n",
       "      <td>No</td>\n",
       "      <td>307300</td>\n",
       "      <td>810600.0</td>\n",
       "      <td>20000000</td>\n",
       "      <td>360.0</td>\n",
       "      <td>1.0</td>\n",
       "      <td>Urban</td>\n",
       "      <td>Y</td>\n",
       "    </tr>\n",
       "    <tr>\n",
       "      <th>13</th>\n",
       "      <td>Male</td>\n",
       "      <td>No</td>\n",
       "      <td>0</td>\n",
       "      <td>Graduate</td>\n",
       "      <td>No</td>\n",
       "      <td>185300</td>\n",
       "      <td>284000.0</td>\n",
       "      <td>11400000</td>\n",
       "      <td>360.0</td>\n",
       "      <td>1.0</td>\n",
       "      <td>Rural</td>\n",
       "      <td>N</td>\n",
       "    </tr>\n",
       "    <tr>\n",
       "      <th>14</th>\n",
       "      <td>Male</td>\n",
       "      <td>Yes</td>\n",
       "      <td>2</td>\n",
       "      <td>Graduate</td>\n",
       "      <td>No</td>\n",
       "      <td>129900</td>\n",
       "      <td>108600.0</td>\n",
       "      <td>1700000</td>\n",
       "      <td>120.0</td>\n",
       "      <td>1.0</td>\n",
       "      <td>Urban</td>\n",
       "      <td>Y</td>\n",
       "    </tr>\n",
       "    <tr>\n",
       "      <th>15</th>\n",
       "      <td>Male</td>\n",
       "      <td>No</td>\n",
       "      <td>0</td>\n",
       "      <td>Graduate</td>\n",
       "      <td>No</td>\n",
       "      <td>495000</td>\n",
       "      <td>0.0</td>\n",
       "      <td>12500000</td>\n",
       "      <td>360.0</td>\n",
       "      <td>1.0</td>\n",
       "      <td>Urban</td>\n",
       "      <td>Y</td>\n",
       "    </tr>\n",
       "    <tr>\n",
       "      <th>16</th>\n",
       "      <td>Male</td>\n",
       "      <td>No</td>\n",
       "      <td>1</td>\n",
       "      <td>Not Graduate</td>\n",
       "      <td>No</td>\n",
       "      <td>359600</td>\n",
       "      <td>0.0</td>\n",
       "      <td>10000000</td>\n",
       "      <td>240.0</td>\n",
       "      <td>1.0</td>\n",
       "      <td>Urban</td>\n",
       "      <td>Y</td>\n",
       "    </tr>\n",
       "    <tr>\n",
       "      <th>17</th>\n",
       "      <td>Female</td>\n",
       "      <td>No</td>\n",
       "      <td>0</td>\n",
       "      <td>Graduate</td>\n",
       "      <td>No</td>\n",
       "      <td>351000</td>\n",
       "      <td>0.0</td>\n",
       "      <td>7600000</td>\n",
       "      <td>360.0</td>\n",
       "      <td>0.0</td>\n",
       "      <td>Urban</td>\n",
       "      <td>N</td>\n",
       "    </tr>\n",
       "    <tr>\n",
       "      <th>18</th>\n",
       "      <td>Male</td>\n",
       "      <td>Yes</td>\n",
       "      <td>0</td>\n",
       "      <td>Not Graduate</td>\n",
       "      <td>No</td>\n",
       "      <td>488700</td>\n",
       "      <td>0.0</td>\n",
       "      <td>13300000</td>\n",
       "      <td>360.0</td>\n",
       "      <td>1.0</td>\n",
       "      <td>Rural</td>\n",
       "      <td>N</td>\n",
       "    </tr>\n",
       "    <tr>\n",
       "      <th>19</th>\n",
       "      <td>Male</td>\n",
       "      <td>Yes</td>\n",
       "      <td>0</td>\n",
       "      <td>Graduate</td>\n",
       "      <td>No</td>\n",
       "      <td>260000</td>\n",
       "      <td>350000.0</td>\n",
       "      <td>11500000</td>\n",
       "      <td>360.0</td>\n",
       "      <td>1.0</td>\n",
       "      <td>Urban</td>\n",
       "      <td>Y</td>\n",
       "    </tr>\n",
       "  </tbody>\n",
       "</table>\n",
       "</div>"
      ],
      "text/plain": [
       "    Gender Married Dependents     Education Self_Employed  Applicant_Income  \\\n",
       "0     Male      No          0      Graduate            No            584900   \n",
       "1     Male     Yes          1      Graduate            No            458300   \n",
       "2     Male     Yes          0      Graduate           Yes            300000   \n",
       "3     Male     Yes          0  Not Graduate            No            258300   \n",
       "4     Male      No          0      Graduate            No            600000   \n",
       "5     Male     Yes          2      Graduate           Yes            541700   \n",
       "6     Male     Yes          0  Not Graduate            No            233300   \n",
       "7     Male     Yes         3+      Graduate            No            303600   \n",
       "8     Male     Yes          2      Graduate            No            400600   \n",
       "9     Male     Yes          1      Graduate            No           1284100   \n",
       "10    Male     Yes          2      Graduate            No            320000   \n",
       "11    Male     Yes          2      Graduate            No            250000   \n",
       "12    Male     Yes          2      Graduate            No            307300   \n",
       "13    Male      No          0      Graduate            No            185300   \n",
       "14    Male     Yes          2      Graduate            No            129900   \n",
       "15    Male      No          0      Graduate            No            495000   \n",
       "16    Male      No          1  Not Graduate            No            359600   \n",
       "17  Female      No          0      Graduate            No            351000   \n",
       "18    Male     Yes          0  Not Graduate            No            488700   \n",
       "19    Male     Yes          0      Graduate            No            260000   \n",
       "\n",
       "    Coapplicant_Income  Loan_Amount   Term  Credit_History       Area Status  \n",
       "0                  0.0     15000000  360.0             1.0      Urban      Y  \n",
       "1             150800.0     12800000  360.0             1.0      Rural      N  \n",
       "2                  0.0      6600000  360.0             1.0      Urban      Y  \n",
       "3             235800.0     12000000  360.0             1.0      Urban      Y  \n",
       "4                  0.0     14100000  360.0             1.0      Urban      Y  \n",
       "5             419600.0     26700000  360.0             1.0      Urban      Y  \n",
       "6             151600.0      9500000  360.0             1.0      Urban      Y  \n",
       "7             250400.0     15800000  360.0             0.0  Semiurban      N  \n",
       "8             152600.0     16800000  360.0             1.0      Urban      Y  \n",
       "9            1096800.0     34900000  360.0             1.0  Semiurban      N  \n",
       "10             70000.0      7000000  360.0             1.0      Urban      Y  \n",
       "11            184000.0     10900000  360.0             1.0      Urban      Y  \n",
       "12            810600.0     20000000  360.0             1.0      Urban      Y  \n",
       "13            284000.0     11400000  360.0             1.0      Rural      N  \n",
       "14            108600.0      1700000  120.0             1.0      Urban      Y  \n",
       "15                 0.0     12500000  360.0             1.0      Urban      Y  \n",
       "16                 0.0     10000000  240.0             1.0      Urban      Y  \n",
       "17                 0.0      7600000  360.0             0.0      Urban      N  \n",
       "18                 0.0     13300000  360.0             1.0      Rural      N  \n",
       "19            350000.0     11500000  360.0             1.0      Urban      Y  "
      ]
     },
     "execution_count": 34,
     "metadata": {},
     "output_type": "execute_result"
    }
   ],
   "source": [
    "df[:20]"
   ]
  },
  {
   "cell_type": "code",
   "execution_count": 35,
   "metadata": {},
   "outputs": [],
   "source": [
    "test_path = r\"D:\\\\hicheel\\\\AI\\\\loan_test.csv\"\n",
    "\n",
    "test_data = pd.read_csv(test_path)"
   ]
  },
  {
   "cell_type": "code",
   "execution_count": 36,
   "metadata": {},
   "outputs": [],
   "source": [
    "test=pd.DataFrame(test_data)"
   ]
  },
  {
   "cell_type": "code",
   "execution_count": 37,
   "metadata": {},
   "outputs": [
    {
     "data": {
      "text/html": [
       "<div>\n",
       "<style scoped>\n",
       "    .dataframe tbody tr th:only-of-type {\n",
       "        vertical-align: middle;\n",
       "    }\n",
       "\n",
       "    .dataframe tbody tr th {\n",
       "        vertical-align: top;\n",
       "    }\n",
       "\n",
       "    .dataframe thead th {\n",
       "        text-align: right;\n",
       "    }\n",
       "</style>\n",
       "<table border=\"1\" class=\"dataframe\">\n",
       "  <thead>\n",
       "    <tr style=\"text-align: right;\">\n",
       "      <th></th>\n",
       "      <th>Gender</th>\n",
       "      <th>Married</th>\n",
       "      <th>Dependents</th>\n",
       "      <th>Education</th>\n",
       "      <th>Self_Employed</th>\n",
       "      <th>Applicant_Income</th>\n",
       "      <th>Coapplicant_Income</th>\n",
       "      <th>Loan_Amount</th>\n",
       "      <th>Term</th>\n",
       "      <th>Credit_History</th>\n",
       "      <th>Area</th>\n",
       "    </tr>\n",
       "  </thead>\n",
       "  <tbody>\n",
       "    <tr>\n",
       "      <th>0</th>\n",
       "      <td>Male</td>\n",
       "      <td>Yes</td>\n",
       "      <td>0</td>\n",
       "      <td>Graduate</td>\n",
       "      <td>No</td>\n",
       "      <td>572000</td>\n",
       "      <td>0</td>\n",
       "      <td>11000000</td>\n",
       "      <td>360.0</td>\n",
       "      <td>1.0</td>\n",
       "      <td>Urban</td>\n",
       "    </tr>\n",
       "    <tr>\n",
       "      <th>1</th>\n",
       "      <td>Male</td>\n",
       "      <td>Yes</td>\n",
       "      <td>1</td>\n",
       "      <td>Graduate</td>\n",
       "      <td>No</td>\n",
       "      <td>307600</td>\n",
       "      <td>150000</td>\n",
       "      <td>12600000</td>\n",
       "      <td>360.0</td>\n",
       "      <td>1.0</td>\n",
       "      <td>Urban</td>\n",
       "    </tr>\n",
       "    <tr>\n",
       "      <th>2</th>\n",
       "      <td>Male</td>\n",
       "      <td>Yes</td>\n",
       "      <td>2</td>\n",
       "      <td>Graduate</td>\n",
       "      <td>No</td>\n",
       "      <td>500000</td>\n",
       "      <td>180000</td>\n",
       "      <td>20800000</td>\n",
       "      <td>360.0</td>\n",
       "      <td>1.0</td>\n",
       "      <td>Urban</td>\n",
       "    </tr>\n",
       "    <tr>\n",
       "      <th>3</th>\n",
       "      <td>Male</td>\n",
       "      <td>Yes</td>\n",
       "      <td>2</td>\n",
       "      <td>Graduate</td>\n",
       "      <td>No</td>\n",
       "      <td>234000</td>\n",
       "      <td>254600</td>\n",
       "      <td>10000000</td>\n",
       "      <td>360.0</td>\n",
       "      <td>NaN</td>\n",
       "      <td>Urban</td>\n",
       "    </tr>\n",
       "    <tr>\n",
       "      <th>4</th>\n",
       "      <td>Male</td>\n",
       "      <td>No</td>\n",
       "      <td>0</td>\n",
       "      <td>Not Graduate</td>\n",
       "      <td>No</td>\n",
       "      <td>327600</td>\n",
       "      <td>0</td>\n",
       "      <td>7800000</td>\n",
       "      <td>360.0</td>\n",
       "      <td>1.0</td>\n",
       "      <td>Urban</td>\n",
       "    </tr>\n",
       "  </tbody>\n",
       "</table>\n",
       "</div>"
      ],
      "text/plain": [
       "  Gender Married Dependents     Education Self_Employed  Applicant_Income  \\\n",
       "0   Male     Yes          0      Graduate            No            572000   \n",
       "1   Male     Yes          1      Graduate            No            307600   \n",
       "2   Male     Yes          2      Graduate            No            500000   \n",
       "3   Male     Yes          2      Graduate            No            234000   \n",
       "4   Male      No          0  Not Graduate            No            327600   \n",
       "\n",
       "   Coapplicant_Income  Loan_Amount   Term  Credit_History   Area  \n",
       "0                   0     11000000  360.0             1.0  Urban  \n",
       "1              150000     12600000  360.0             1.0  Urban  \n",
       "2              180000     20800000  360.0             1.0  Urban  \n",
       "3              254600     10000000  360.0             NaN  Urban  \n",
       "4                   0      7800000  360.0             1.0  Urban  "
      ]
     },
     "execution_count": 37,
     "metadata": {},
     "output_type": "execute_result"
    }
   ],
   "source": [
    "test_data[:5]"
   ]
  },
  {
   "cell_type": "code",
   "execution_count": 38,
   "metadata": {},
   "outputs": [
    {
     "data": {
      "text/plain": [
       "11"
      ]
     },
     "execution_count": 38,
     "metadata": {},
     "output_type": "execute_result"
    }
   ],
   "source": [
    "n = test_data['Gender'].isnull().sum()\n",
    "n"
   ]
  },
  {
   "cell_type": "code",
   "execution_count": 39,
   "metadata": {},
   "outputs": [],
   "source": [
    "test_data['Gender'] = test_data['Gender'].fillna(test_data['Gender'].mode()[0])"
   ]
  },
  {
   "cell_type": "code",
   "execution_count": 40,
   "metadata": {},
   "outputs": [
    {
     "data": {
      "text/plain": [
       "0"
      ]
     },
     "execution_count": 40,
     "metadata": {},
     "output_type": "execute_result"
    }
   ],
   "source": [
    "#Married\tDependents\tEducation\tSelf_Employed\tApplicant_Income\tCoapplicant_Income\tLoan_Amount\tTerm\tCredit_History\tArea\n",
    "n = test_data['Married'].isnull().sum()\n",
    "n"
   ]
  },
  {
   "cell_type": "code",
   "execution_count": 41,
   "metadata": {},
   "outputs": [
    {
     "data": {
      "text/plain": [
       "10"
      ]
     },
     "execution_count": 41,
     "metadata": {},
     "output_type": "execute_result"
    }
   ],
   "source": [
    "n = test_data['Dependents'].isnull().sum()\n",
    "n"
   ]
  },
  {
   "cell_type": "code",
   "execution_count": 42,
   "metadata": {},
   "outputs": [],
   "source": [
    "test_data['Dependents'] = test_data['Dependents'].fillna(test_data['Dependents'].mode()[0])\n"
   ]
  },
  {
   "cell_type": "code",
   "execution_count": 43,
   "metadata": {},
   "outputs": [
    {
     "data": {
      "text/plain": [
       "0"
      ]
     },
     "execution_count": 43,
     "metadata": {},
     "output_type": "execute_result"
    }
   ],
   "source": [
    "n = test_data['Dependents'].isnull().sum()\n",
    "n"
   ]
  },
  {
   "cell_type": "code",
   "execution_count": 44,
   "metadata": {},
   "outputs": [
    {
     "data": {
      "text/plain": [
       "23"
      ]
     },
     "execution_count": 44,
     "metadata": {},
     "output_type": "execute_result"
    }
   ],
   "source": [
    "#Education\tSelf_Employed\tApplicant_Income\tCoapplicant_Income\tLoan_Amount\tTerm\tCredit_History\tArea\n",
    "n = test_data['Self_Employed'].isnull().sum()\n",
    "n"
   ]
  },
  {
   "cell_type": "code",
   "execution_count": 45,
   "metadata": {},
   "outputs": [],
   "source": [
    "test_data['Self_Employed'] = test_data['Self_Employed'].fillna(test_data['Self_Employed'].mode()[0])"
   ]
  },
  {
   "cell_type": "code",
   "execution_count": 46,
   "metadata": {},
   "outputs": [
    {
     "data": {
      "text/plain": [
       "6"
      ]
     },
     "execution_count": 46,
     "metadata": {},
     "output_type": "execute_result"
    }
   ],
   "source": [
    "#Applicant_Income\tCoapplicant_Income\tLoan_Amount\tTerm\tCredit_History\tArea\n",
    "n = test_data['Term'].isnull().sum()\n",
    "n"
   ]
  },
  {
   "cell_type": "code",
   "execution_count": 47,
   "metadata": {},
   "outputs": [
    {
     "name": "stderr",
     "output_type": "stream",
     "text": [
      "C:\\Users\\Dell\\AppData\\Local\\Temp\\ipykernel_42164\\952220327.py:1: FutureWarning: A value is trying to be set on a copy of a DataFrame or Series through chained assignment using an inplace method.\n",
      "The behavior will change in pandas 3.0. This inplace method will never work because the intermediate object on which we are setting values always behaves as a copy.\n",
      "\n",
      "For example, when doing 'df[col].method(value, inplace=True)', try using 'df.method({col: value}, inplace=True)' or df[col] = df[col].method(value) instead, to perform the operation inplace on the original object.\n",
      "\n",
      "\n",
      "  test_data['Term'].fillna(test_data['Term'].median(), inplace=True)\n"
     ]
    },
    {
     "data": {
      "text/plain": [
       "0"
      ]
     },
     "execution_count": 47,
     "metadata": {},
     "output_type": "execute_result"
    }
   ],
   "source": [
    "test_data['Term'].fillna(test_data['Term'].median(), inplace=True)\n",
    "n = test_data['Term'].isnull().sum()\n",
    "n"
   ]
  },
  {
   "cell_type": "code",
   "execution_count": 48,
   "metadata": {},
   "outputs": [
    {
     "data": {
      "text/plain": [
       "29"
      ]
     },
     "execution_count": 48,
     "metadata": {},
     "output_type": "execute_result"
    }
   ],
   "source": [
    "#Credit_History\tArea\n",
    "n = test_data['Credit_History'].isnull().sum()\n",
    "n"
   ]
  },
  {
   "cell_type": "code",
   "execution_count": 49,
   "metadata": {},
   "outputs": [
    {
     "data": {
      "text/plain": [
       "0"
      ]
     },
     "execution_count": 49,
     "metadata": {},
     "output_type": "execute_result"
    }
   ],
   "source": [
    "test_data['Credit_History'] = test_data['Credit_History'].fillna(test_data['Credit_History'].mode()[0])\n",
    "n = test_data['Credit_History'].isnull().sum()\n",
    "n"
   ]
  },
  {
   "cell_type": "code",
   "execution_count": 50,
   "metadata": {},
   "outputs": [
    {
     "data": {
      "text/plain": [
       "0"
      ]
     },
     "execution_count": 50,
     "metadata": {},
     "output_type": "execute_result"
    }
   ],
   "source": [
    "#Area\n",
    "n = test_data['Area'].isnull().sum()\n",
    "n"
   ]
  },
  {
   "cell_type": "code",
   "execution_count": 51,
   "metadata": {},
   "outputs": [],
   "source": [
    "min_value = df['Applicant_Income'].min()\n",
    "max_value = df['Applicant_Income'].max()"
   ]
  },
  {
   "cell_type": "code",
   "execution_count": 52,
   "metadata": {},
   "outputs": [
    {
     "data": {
      "text/plain": [
       "15000"
      ]
     },
     "execution_count": 52,
     "metadata": {},
     "output_type": "execute_result"
    }
   ],
   "source": [
    "min_value"
   ]
  },
  {
   "cell_type": "code",
   "execution_count": 53,
   "metadata": {},
   "outputs": [
    {
     "data": {
      "text/plain": [
       "8100000"
      ]
     },
     "execution_count": 53,
     "metadata": {},
     "output_type": "execute_result"
    }
   ],
   "source": [
    "max_value"
   ]
  },
  {
   "cell_type": "code",
   "execution_count": 54,
   "metadata": {},
   "outputs": [
    {
     "name": "stdout",
     "output_type": "stream",
     "text": [
      "15000 8100000\n"
     ]
    }
   ],
   "source": [
    "min_value = df['Applicant_Income'].min()\n",
    "max_value = df['Applicant_Income'].max()\n",
    "print(min_value, max_value)"
   ]
  },
  {
   "cell_type": "code",
   "execution_count": 55,
   "metadata": {},
   "outputs": [
    {
     "name": "stdout",
     "output_type": "stream",
     "text": [
      "0 70000000\n"
     ]
    }
   ],
   "source": [
    "min_value = df['Loan_Amount'].min()\n",
    "max_value = df['Loan_Amount'].max()\n",
    "print(min_value, max_value)"
   ]
  },
  {
   "cell_type": "code",
   "execution_count": 56,
   "metadata": {},
   "outputs": [
    {
     "name": "stdout",
     "output_type": "stream",
     "text": [
      "0 55000000\n"
     ]
    }
   ],
   "source": [
    "min_value = test_data['Loan_Amount'].min()\n",
    "max_value = test_data['Loan_Amount'].max()\n",
    "print(min_value, max_value)"
   ]
  },
  {
   "cell_type": "code",
   "execution_count": 57,
   "metadata": {},
   "outputs": [
    {
     "name": "stdout",
     "output_type": "stream",
     "text": [
      "0 2400000\n"
     ]
    }
   ],
   "source": [
    "min_value = test_data['Coapplicant_Income'].min()\n",
    "max_value = test_data['Coapplicant_Income'].max()\n",
    "print(min_value, max_value)"
   ]
  },
  {
   "cell_type": "code",
   "execution_count": 58,
   "metadata": {},
   "outputs": [
    {
     "name": "stdout",
     "output_type": "stream",
     "text": [
      "0 7252900\n"
     ]
    }
   ],
   "source": [
    "min_value = test_data['Applicant_Income'].min()\n",
    "max_value = test_data['Applicant_Income'].max()\n",
    "print(min_value, max_value)"
   ]
  },
  {
   "cell_type": "code",
   "execution_count": 59,
   "metadata": {},
   "outputs": [
    {
     "name": "stdout",
     "output_type": "stream",
     "text": [
      "   Applicant_Income Applicant_Income_Binned  Coapplicant_Income  \\\n",
      "0            584900           15000-1632000                 0.0   \n",
      "1            458300           15000-1632000            150800.0   \n",
      "2            300000           15000-1632000                 0.0   \n",
      "3            258300           15000-1632000            235800.0   \n",
      "4            600000           15000-1632000                 0.0   \n",
      "\n",
      "  Coapplicant_Income_Binned  \n",
      "0                       NaN  \n",
      "1                  0-833340  \n",
      "2                       NaN  \n",
      "3                  0-833340  \n",
      "4                       NaN  \n"
     ]
    }
   ],
   "source": [
    "def define_bins(df, column, num_bins=5):\n",
    "    min_value = df[column].min()\n",
    "    max_value = df[column].max()\n",
    "    bins = np.linspace(min_value, max_value, num_bins + 1)\n",
    "    return bins\n",
    "\n",
    "applicant_income_bins = define_bins(df, 'Applicant_Income', num_bins=5)\n",
    "coapplicant_income_bins = define_bins(df, 'Coapplicant_Income', num_bins=5)\n",
    "loan_amount_bins = define_bins(df, 'Loan_Amount', num_bins=5)\n",
    "\n",
    "df['Applicant_Income_Binned'] = pd.cut(df['Applicant_Income'], applicant_income_bins, labels=[f'{int(applicant_income_bins[i])}-{int(applicant_income_bins[i+1])}' for i in range(len(applicant_income_bins)-1)])\n",
    "df['Coapplicant_Income_Binned'] = pd.cut(df['Coapplicant_Income'], coapplicant_income_bins, labels=[f'{int(coapplicant_income_bins[i])}-{int(coapplicant_income_bins[i+1])}' for i in range(len(coapplicant_income_bins)-1)])\n",
    "df['Loan_Amount_binned'] = pd.cut(df['Loan_Amount'], loan_amount_bins, labels=[f'{int(loan_amount_bins[i])}-{int(loan_amount_bins[i+1])}' for i in range(len(loan_amount_bins)-1)])\n",
    "\n",
    "test_data['Applicant_Income_Binned'] = pd.cut(test_data['Applicant_Income'], applicant_income_bins, labels=[f'{int(applicant_income_bins[i])}-{int(applicant_income_bins[i+1])}' for i in range(len(applicant_income_bins)-1)])\n",
    "test_data['Loan_Amount_binned'] = pd.cut(test_data['Loan_Amount'], loan_amount_bins, labels=[f'{int(loan_amount_bins[i])}-{int(loan_amount_bins[i+1])}' for i in range(len(loan_amount_bins)-1)])\n",
    "test_data['Coapplicant_Income_Binned'] = pd.cut(test_data['Coapplicant_Income'], coapplicant_income_bins, labels=[f'{int(coapplicant_income_bins[i])}-{int(coapplicant_income_bins[i+1])}' for i in range(len(coapplicant_income_bins)-1)])\n",
    "\n",
    "print(df[['Applicant_Income', 'Applicant_Income_Binned', 'Coapplicant_Income', 'Coapplicant_Income_Binned']].head())\n"
   ]
  },
  {
   "cell_type": "code",
   "execution_count": 60,
   "metadata": {},
   "outputs": [
    {
     "data": {
      "text/plain": [
       "array([  15000., 1632000., 3249000., 4866000., 6483000., 8100000.])"
      ]
     },
     "execution_count": 60,
     "metadata": {},
     "output_type": "execute_result"
    }
   ],
   "source": [
    "applicant_income_bins"
   ]
  },
  {
   "cell_type": "code",
   "execution_count": 61,
   "metadata": {},
   "outputs": [
    {
     "data": {
      "text/plain": [
       "array([      0.,  833340., 1666680., 2500020., 3333360., 4166700.])"
      ]
     },
     "execution_count": 61,
     "metadata": {},
     "output_type": "execute_result"
    }
   ],
   "source": [
    "coapplicant_income_bins"
   ]
  },
  {
   "cell_type": "code",
   "execution_count": 62,
   "metadata": {},
   "outputs": [
    {
     "data": {
      "text/plain": [
       "2"
      ]
     },
     "execution_count": 62,
     "metadata": {},
     "output_type": "execute_result"
    }
   ],
   "source": [
    "n = test_data['Applicant_Income_Binned'].isnull().sum()\n",
    "n"
   ]
  },
  {
   "cell_type": "code",
   "execution_count": 63,
   "metadata": {},
   "outputs": [
    {
     "data": {
      "text/plain": [
       "273"
      ]
     },
     "execution_count": 63,
     "metadata": {},
     "output_type": "execute_result"
    }
   ],
   "source": [
    "n = df['Coapplicant_Income_Binned'].isnull().sum()\n",
    "n"
   ]
  },
  {
   "cell_type": "code",
   "execution_count": 64,
   "metadata": {},
   "outputs": [
    {
     "data": {
      "text/plain": [
       "0           0.0\n",
       "1      150800.0\n",
       "2           0.0\n",
       "3      235800.0\n",
       "4           0.0\n",
       "         ...   \n",
       "609         0.0\n",
       "610         0.0\n",
       "611     24000.0\n",
       "612         0.0\n",
       "613         0.0\n",
       "Name: Coapplicant_Income, Length: 614, dtype: float64"
      ]
     },
     "execution_count": 64,
     "metadata": {},
     "output_type": "execute_result"
    }
   ],
   "source": [
    "df['Coapplicant_Income']"
   ]
  },
  {
   "cell_type": "code",
   "execution_count": 65,
   "metadata": {},
   "outputs": [],
   "source": [
    "test_data['Coapplicant_Income_Binned'] = test_data['Coapplicant_Income_Binned'].fillna(test_data['Coapplicant_Income_Binned'].mode()[0])\n",
    "test_data['Applicant_Income_Binned'] = test_data['Applicant_Income_Binned'].fillna(test_data['Applicant_Income_Binned'].mode()[0])\n",
    "test_data['Loan_Amount_binned'] = test_data['Loan_Amount_binned'].fillna(test_data['Loan_Amount_binned'].mode()[0])"
   ]
  },
  {
   "cell_type": "code",
   "execution_count": 66,
   "metadata": {},
   "outputs": [],
   "source": [
    "df['Coapplicant_Income_Binned'] = df['Coapplicant_Income_Binned'].fillna(df['Coapplicant_Income_Binned'].mode()[0])"
   ]
  },
  {
   "cell_type": "code",
   "execution_count": 67,
   "metadata": {},
   "outputs": [
    {
     "data": {
      "text/plain": [
       "0"
      ]
     },
     "execution_count": 67,
     "metadata": {},
     "output_type": "execute_result"
    }
   ],
   "source": [
    "n = df['Coapplicant_Income_Binned'].isnull().sum()\n",
    "n"
   ]
  },
  {
   "cell_type": "code",
   "execution_count": 68,
   "metadata": {},
   "outputs": [],
   "source": [
    "df['Applicant_Income_Binned'] = df['Applicant_Income_Binned'].fillna(df['Applicant_Income_Binned'].mode()[0])"
   ]
  },
  {
   "cell_type": "code",
   "execution_count": 69,
   "metadata": {},
   "outputs": [
    {
     "data": {
      "text/plain": [
       "0      0-833340\n",
       "1      0-833340\n",
       "2      0-833340\n",
       "3      0-833340\n",
       "4      0-833340\n",
       "         ...   \n",
       "609    0-833340\n",
       "610    0-833340\n",
       "611    0-833340\n",
       "612    0-833340\n",
       "613    0-833340\n",
       "Name: Coapplicant_Income_Binned, Length: 614, dtype: category\n",
       "Categories (5, object): ['0-833340' < '833340-1666680' < '1666680-2500020' < '2500020-3333360' < '3333360-4166700']"
      ]
     },
     "execution_count": 69,
     "metadata": {},
     "output_type": "execute_result"
    }
   ],
   "source": [
    "df['Coapplicant_Income_Binned']"
   ]
  },
  {
   "cell_type": "code",
   "execution_count": 71,
   "metadata": {},
   "outputs": [],
   "source": [
    "df['Loan_Amount_binned'] = df['Loan_Amount_binned'].fillna(df['Loan_Amount_binned'].mode()[0])"
   ]
  },
  {
   "cell_type": "code",
   "execution_count": 70,
   "metadata": {},
   "outputs": [],
   "source": [
    "df.drop('Applicant_Income', axis=1, inplace=True)\n",
    "df.drop('Coapplicant_Income', axis=1, inplace=True)\n",
    "df.drop('Loan_Amount', axis=1, inplace=True)"
   ]
  },
  {
   "cell_type": "code",
   "execution_count": 72,
   "metadata": {},
   "outputs": [],
   "source": [
    "from collections import Counter\n",
    "from sklearn.model_selection import train_test_split\n",
    "\n",
    "def entropy(data):\n",
    "    total = len(data)\n",
    "    class_counts = Counter(data)\n",
    "    entropy_value = 0.0\n",
    "    for count in class_counts.values():\n",
    "        p = count / total\n",
    "        entropy_value -= p * np.log2(p)\n",
    "    return entropy_value\n",
    "\n",
    "def information_gain(data, feature, target):\n",
    "    total_entropy = entropy(target)\n",
    "    values = data[feature].unique()\n",
    "    weighted_entropy = 0.0\n",
    "    \n",
    "    for value in values:\n",
    "        subset_target = target[data[feature] == value]\n",
    "        weighted_entropy += (len(subset_target) / len(target)) * entropy(subset_target)\n",
    "    \n",
    "    return total_entropy - weighted_entropy\n",
    "\n",
    "def build_tree(data, target, features, depth=0, max_depth=5):\n",
    "    if len(set(target)) == 1 or depth >= max_depth:\n",
    "        return Counter(target).most_common(1)[0][0]\n",
    "    gains = {feature: information_gain(data, feature, target) for feature in features}\n",
    "    best_feature = max(gains, key=gains.get)\n",
    "    \n",
    "    tree = {best_feature: {}}\n",
    "    \n",
    "    for value in data[best_feature].unique():\n",
    "        subset = data[data[best_feature] == value]\n",
    "        subset_target = target[data[best_feature] == value]\n",
    "        remaining_features = [f for f in features if f != best_feature]\n",
    "        \n",
    "        tree[best_feature][value] = build_tree(subset, subset_target, remaining_features, depth + 1, max_depth)\n",
    "    \n",
    "    return tree\n",
    "def predict(tree, sample):\n",
    "    if not isinstance(tree, dict):\n",
    "        return tree\n",
    "\n",
    "    feature = list(tree.keys())[0]\n",
    "    value = sample[feature]\n",
    "\n",
    "    if value not in tree[feature]:\n",
    "        return Counter([val for branch in tree[feature].values() for val in branch]).most_common(1)[0][0]\n",
    "\n",
    "    return predict(tree[feature][value], sample)\n",
    "\n",
    "X = df.drop(columns=['Status'])\n",
    "y = df['Status'] \n",
    "X_train, X_val, y_train, y_val = train_test_split(X, y, test_size=0.2, random_state=42)\n",
    "\n",
    "features = X_train.columns\n",
    "\n",
    "tree = build_tree(X_train, y_train, features)"
   ]
  },
  {
   "cell_type": "code",
   "execution_count": 73,
   "metadata": {},
   "outputs": [
    {
     "data": {
      "text/html": [
       "<div>\n",
       "<style scoped>\n",
       "    .dataframe tbody tr th:only-of-type {\n",
       "        vertical-align: middle;\n",
       "    }\n",
       "\n",
       "    .dataframe tbody tr th {\n",
       "        vertical-align: top;\n",
       "    }\n",
       "\n",
       "    .dataframe thead th {\n",
       "        text-align: right;\n",
       "    }\n",
       "</style>\n",
       "<table border=\"1\" class=\"dataframe\">\n",
       "  <thead>\n",
       "    <tr style=\"text-align: right;\">\n",
       "      <th></th>\n",
       "      <th>Gender</th>\n",
       "      <th>Married</th>\n",
       "      <th>Dependents</th>\n",
       "      <th>Education</th>\n",
       "      <th>Self_Employed</th>\n",
       "      <th>Term</th>\n",
       "      <th>Credit_History</th>\n",
       "      <th>Area</th>\n",
       "      <th>Status</th>\n",
       "      <th>Applicant_Income_Binned</th>\n",
       "      <th>Coapplicant_Income_Binned</th>\n",
       "      <th>Loan_Amount_binned</th>\n",
       "    </tr>\n",
       "  </thead>\n",
       "  <tbody>\n",
       "    <tr>\n",
       "      <th>0</th>\n",
       "      <td>Male</td>\n",
       "      <td>No</td>\n",
       "      <td>0</td>\n",
       "      <td>Graduate</td>\n",
       "      <td>No</td>\n",
       "      <td>360.0</td>\n",
       "      <td>1.0</td>\n",
       "      <td>Urban</td>\n",
       "      <td>Y</td>\n",
       "      <td>15000-1632000</td>\n",
       "      <td>0-833340</td>\n",
       "      <td>14000000-28000000</td>\n",
       "    </tr>\n",
       "    <tr>\n",
       "      <th>1</th>\n",
       "      <td>Male</td>\n",
       "      <td>Yes</td>\n",
       "      <td>1</td>\n",
       "      <td>Graduate</td>\n",
       "      <td>No</td>\n",
       "      <td>360.0</td>\n",
       "      <td>1.0</td>\n",
       "      <td>Rural</td>\n",
       "      <td>N</td>\n",
       "      <td>15000-1632000</td>\n",
       "      <td>0-833340</td>\n",
       "      <td>0-14000000</td>\n",
       "    </tr>\n",
       "    <tr>\n",
       "      <th>2</th>\n",
       "      <td>Male</td>\n",
       "      <td>Yes</td>\n",
       "      <td>0</td>\n",
       "      <td>Graduate</td>\n",
       "      <td>Yes</td>\n",
       "      <td>360.0</td>\n",
       "      <td>1.0</td>\n",
       "      <td>Urban</td>\n",
       "      <td>Y</td>\n",
       "      <td>15000-1632000</td>\n",
       "      <td>0-833340</td>\n",
       "      <td>0-14000000</td>\n",
       "    </tr>\n",
       "    <tr>\n",
       "      <th>3</th>\n",
       "      <td>Male</td>\n",
       "      <td>Yes</td>\n",
       "      <td>0</td>\n",
       "      <td>Not Graduate</td>\n",
       "      <td>No</td>\n",
       "      <td>360.0</td>\n",
       "      <td>1.0</td>\n",
       "      <td>Urban</td>\n",
       "      <td>Y</td>\n",
       "      <td>15000-1632000</td>\n",
       "      <td>0-833340</td>\n",
       "      <td>0-14000000</td>\n",
       "    </tr>\n",
       "    <tr>\n",
       "      <th>4</th>\n",
       "      <td>Male</td>\n",
       "      <td>No</td>\n",
       "      <td>0</td>\n",
       "      <td>Graduate</td>\n",
       "      <td>No</td>\n",
       "      <td>360.0</td>\n",
       "      <td>1.0</td>\n",
       "      <td>Urban</td>\n",
       "      <td>Y</td>\n",
       "      <td>15000-1632000</td>\n",
       "      <td>0-833340</td>\n",
       "      <td>14000000-28000000</td>\n",
       "    </tr>\n",
       "    <tr>\n",
       "      <th>...</th>\n",
       "      <td>...</td>\n",
       "      <td>...</td>\n",
       "      <td>...</td>\n",
       "      <td>...</td>\n",
       "      <td>...</td>\n",
       "      <td>...</td>\n",
       "      <td>...</td>\n",
       "      <td>...</td>\n",
       "      <td>...</td>\n",
       "      <td>...</td>\n",
       "      <td>...</td>\n",
       "      <td>...</td>\n",
       "    </tr>\n",
       "    <tr>\n",
       "      <th>609</th>\n",
       "      <td>Female</td>\n",
       "      <td>No</td>\n",
       "      <td>0</td>\n",
       "      <td>Graduate</td>\n",
       "      <td>No</td>\n",
       "      <td>360.0</td>\n",
       "      <td>1.0</td>\n",
       "      <td>Rural</td>\n",
       "      <td>Y</td>\n",
       "      <td>15000-1632000</td>\n",
       "      <td>0-833340</td>\n",
       "      <td>0-14000000</td>\n",
       "    </tr>\n",
       "    <tr>\n",
       "      <th>610</th>\n",
       "      <td>Male</td>\n",
       "      <td>Yes</td>\n",
       "      <td>3+</td>\n",
       "      <td>Graduate</td>\n",
       "      <td>No</td>\n",
       "      <td>180.0</td>\n",
       "      <td>1.0</td>\n",
       "      <td>Rural</td>\n",
       "      <td>Y</td>\n",
       "      <td>15000-1632000</td>\n",
       "      <td>0-833340</td>\n",
       "      <td>0-14000000</td>\n",
       "    </tr>\n",
       "    <tr>\n",
       "      <th>611</th>\n",
       "      <td>Male</td>\n",
       "      <td>Yes</td>\n",
       "      <td>1</td>\n",
       "      <td>Graduate</td>\n",
       "      <td>No</td>\n",
       "      <td>360.0</td>\n",
       "      <td>1.0</td>\n",
       "      <td>Urban</td>\n",
       "      <td>Y</td>\n",
       "      <td>15000-1632000</td>\n",
       "      <td>0-833340</td>\n",
       "      <td>14000000-28000000</td>\n",
       "    </tr>\n",
       "    <tr>\n",
       "      <th>612</th>\n",
       "      <td>Male</td>\n",
       "      <td>Yes</td>\n",
       "      <td>2</td>\n",
       "      <td>Graduate</td>\n",
       "      <td>No</td>\n",
       "      <td>360.0</td>\n",
       "      <td>1.0</td>\n",
       "      <td>Urban</td>\n",
       "      <td>Y</td>\n",
       "      <td>15000-1632000</td>\n",
       "      <td>0-833340</td>\n",
       "      <td>14000000-28000000</td>\n",
       "    </tr>\n",
       "    <tr>\n",
       "      <th>613</th>\n",
       "      <td>Female</td>\n",
       "      <td>No</td>\n",
       "      <td>0</td>\n",
       "      <td>Graduate</td>\n",
       "      <td>Yes</td>\n",
       "      <td>360.0</td>\n",
       "      <td>0.0</td>\n",
       "      <td>Semiurban</td>\n",
       "      <td>N</td>\n",
       "      <td>15000-1632000</td>\n",
       "      <td>0-833340</td>\n",
       "      <td>0-14000000</td>\n",
       "    </tr>\n",
       "  </tbody>\n",
       "</table>\n",
       "<p>614 rows × 12 columns</p>\n",
       "</div>"
      ],
      "text/plain": [
       "     Gender Married Dependents     Education Self_Employed   Term  \\\n",
       "0      Male      No          0      Graduate            No  360.0   \n",
       "1      Male     Yes          1      Graduate            No  360.0   \n",
       "2      Male     Yes          0      Graduate           Yes  360.0   \n",
       "3      Male     Yes          0  Not Graduate            No  360.0   \n",
       "4      Male      No          0      Graduate            No  360.0   \n",
       "..      ...     ...        ...           ...           ...    ...   \n",
       "609  Female      No          0      Graduate            No  360.0   \n",
       "610    Male     Yes         3+      Graduate            No  180.0   \n",
       "611    Male     Yes          1      Graduate            No  360.0   \n",
       "612    Male     Yes          2      Graduate            No  360.0   \n",
       "613  Female      No          0      Graduate           Yes  360.0   \n",
       "\n",
       "     Credit_History       Area Status Applicant_Income_Binned  \\\n",
       "0               1.0      Urban      Y           15000-1632000   \n",
       "1               1.0      Rural      N           15000-1632000   \n",
       "2               1.0      Urban      Y           15000-1632000   \n",
       "3               1.0      Urban      Y           15000-1632000   \n",
       "4               1.0      Urban      Y           15000-1632000   \n",
       "..              ...        ...    ...                     ...   \n",
       "609             1.0      Rural      Y           15000-1632000   \n",
       "610             1.0      Rural      Y           15000-1632000   \n",
       "611             1.0      Urban      Y           15000-1632000   \n",
       "612             1.0      Urban      Y           15000-1632000   \n",
       "613             0.0  Semiurban      N           15000-1632000   \n",
       "\n",
       "    Coapplicant_Income_Binned Loan_Amount_binned  \n",
       "0                    0-833340  14000000-28000000  \n",
       "1                    0-833340         0-14000000  \n",
       "2                    0-833340         0-14000000  \n",
       "3                    0-833340         0-14000000  \n",
       "4                    0-833340  14000000-28000000  \n",
       "..                        ...                ...  \n",
       "609                  0-833340         0-14000000  \n",
       "610                  0-833340         0-14000000  \n",
       "611                  0-833340  14000000-28000000  \n",
       "612                  0-833340  14000000-28000000  \n",
       "613                  0-833340         0-14000000  \n",
       "\n",
       "[614 rows x 12 columns]"
      ]
     },
     "execution_count": 73,
     "metadata": {},
     "output_type": "execute_result"
    }
   ],
   "source": [
    "df"
   ]
  },
  {
   "cell_type": "code",
   "execution_count": 74,
   "metadata": {},
   "outputs": [
    {
     "data": {
      "text/plain": [
       "{'Credit_History': {1.0: {'Term': {360.0: {'Area': {'Semiurban': {'Dependents': {'0': {'Loan_Amount_binned': {'14000000-28000000': 'Y',\n",
       "          '0-14000000': 'Y',\n",
       "          '42000000-56000000': 'Y',\n",
       "          '28000000-42000000': 'Y'}},\n",
       "        '2': 'Y',\n",
       "        '3+': {'Education': {'Not Graduate': 'Y', 'Graduate': 'Y'}},\n",
       "        '1': {'Loan_Amount_binned': {'28000000-42000000': 'N',\n",
       "          '14000000-28000000': 'Y',\n",
       "          '0-14000000': 'Y',\n",
       "          '56000000-70000000': 'Y',\n",
       "          '42000000-56000000': 'Y'}}}},\n",
       "      'Rural': {'Loan_Amount_binned': {'56000000-70000000': 'N',\n",
       "        '14000000-28000000': {'Dependents': {'0': 'Y',\n",
       "          '2': 'Y',\n",
       "          '3+': 'Y',\n",
       "          '1': 'Y'}},\n",
       "        '0-14000000': {'Dependents': {'0': 'Y',\n",
       "          '1': 'N',\n",
       "          '2': 'Y',\n",
       "          '3+': 'Y'}},\n",
       "        '28000000-42000000': {'Dependents': {'2': 'Y', '0': 'N', '3+': 'Y'}},\n",
       "        '42000000-56000000': {'Married': {'Yes': 'Y', 'No': 'N'}}}},\n",
       "      'Urban': {'Coapplicant_Income_Binned': {'0-833340': {'Loan_Amount_binned': {'14000000-28000000': 'Y',\n",
       "          '0-14000000': 'Y',\n",
       "          '42000000-56000000': 'N',\n",
       "          '28000000-42000000': 'Y'}},\n",
       "        '1666680-2500020': 'N',\n",
       "        '3333360-4166700': 'N'}}}},\n",
       "    480.0: {'Loan_Amount_binned': {'14000000-28000000': 'N',\n",
       "      '0-14000000': {'Gender': {'Male': 'N', 'Female': 'Y'}},\n",
       "      '56000000-70000000': 'Y'}},\n",
       "    180.0: {'Loan_Amount_binned': {'28000000-42000000': 'N',\n",
       "      '14000000-28000000': 'Y',\n",
       "      '0-14000000': {'Dependents': {'2': 'Y',\n",
       "        '1': {'Education': {'Graduate': 'Y', 'Not Graduate': 'Y'}},\n",
       "        '0': {'Self_Employed': {'No': 'Y', 'Yes': 'N'}},\n",
       "        '3+': {'Education': {'Not Graduate': 'N', 'Graduate': 'Y'}}}}}},\n",
       "    240.0: {'Dependents': {'1': 'Y', '2': 'N', '0': 'Y'}},\n",
       "    60.0: 'Y',\n",
       "    84.0: {'Gender': {'Female': 'Y',\n",
       "      'Male': {'Dependents': {'1': 'N', '2': 'Y'}}}},\n",
       "    300.0: {'Married': {'Yes': 'Y', 'No': 'N'}},\n",
       "    120.0: 'Y',\n",
       "    12.0: 'Y',\n",
       "    36.0: 'N'}},\n",
       "  0.0: {'Coapplicant_Income_Binned': {'0-833340': {'Gender': {'Male': {'Loan_Amount_binned': {'0-14000000': {'Area': {'Semiurban': 'N',\n",
       "          'Rural': 'N',\n",
       "          'Urban': 'N'}},\n",
       "        '14000000-28000000': {'Dependents': {'1': 'N',\n",
       "          '0': 'N',\n",
       "          '2': 'N',\n",
       "          '3+': 'N'}},\n",
       "        '28000000-42000000': 'N'}},\n",
       "      'Female': 'N'}},\n",
       "    '833340-1666680': {'Gender': {'Male': 'N', 'Female': 'Y'}}}}}}"
      ]
     },
     "execution_count": 74,
     "metadata": {},
     "output_type": "execute_result"
    }
   ],
   "source": [
    "tree"
   ]
  },
  {
   "cell_type": "code",
   "execution_count": 75,
   "metadata": {},
   "outputs": [],
   "source": [
    "test_data.drop('Applicant_Income', axis=1, inplace=True)\n",
    "test_data.drop('Coapplicant_Income', axis=1, inplace=True)\n",
    "test_data.drop('Loan_Amount', axis=1, inplace=True)"
   ]
  },
  {
   "cell_type": "code",
   "execution_count": 76,
   "metadata": {},
   "outputs": [
    {
     "data": {
      "text/html": [
       "<div>\n",
       "<style scoped>\n",
       "    .dataframe tbody tr th:only-of-type {\n",
       "        vertical-align: middle;\n",
       "    }\n",
       "\n",
       "    .dataframe tbody tr th {\n",
       "        vertical-align: top;\n",
       "    }\n",
       "\n",
       "    .dataframe thead th {\n",
       "        text-align: right;\n",
       "    }\n",
       "</style>\n",
       "<table border=\"1\" class=\"dataframe\">\n",
       "  <thead>\n",
       "    <tr style=\"text-align: right;\">\n",
       "      <th></th>\n",
       "      <th>Gender</th>\n",
       "      <th>Married</th>\n",
       "      <th>Dependents</th>\n",
       "      <th>Education</th>\n",
       "      <th>Self_Employed</th>\n",
       "      <th>Term</th>\n",
       "      <th>Credit_History</th>\n",
       "      <th>Area</th>\n",
       "      <th>Applicant_Income_Binned</th>\n",
       "      <th>Loan_Amount_binned</th>\n",
       "      <th>Coapplicant_Income_Binned</th>\n",
       "    </tr>\n",
       "  </thead>\n",
       "  <tbody>\n",
       "    <tr>\n",
       "      <th>0</th>\n",
       "      <td>Male</td>\n",
       "      <td>Yes</td>\n",
       "      <td>0</td>\n",
       "      <td>Graduate</td>\n",
       "      <td>No</td>\n",
       "      <td>360.0</td>\n",
       "      <td>1.0</td>\n",
       "      <td>Urban</td>\n",
       "      <td>15000-1632000</td>\n",
       "      <td>0-14000000</td>\n",
       "      <td>0-833340</td>\n",
       "    </tr>\n",
       "    <tr>\n",
       "      <th>1</th>\n",
       "      <td>Male</td>\n",
       "      <td>Yes</td>\n",
       "      <td>1</td>\n",
       "      <td>Graduate</td>\n",
       "      <td>No</td>\n",
       "      <td>360.0</td>\n",
       "      <td>1.0</td>\n",
       "      <td>Urban</td>\n",
       "      <td>15000-1632000</td>\n",
       "      <td>0-14000000</td>\n",
       "      <td>0-833340</td>\n",
       "    </tr>\n",
       "    <tr>\n",
       "      <th>2</th>\n",
       "      <td>Male</td>\n",
       "      <td>Yes</td>\n",
       "      <td>2</td>\n",
       "      <td>Graduate</td>\n",
       "      <td>No</td>\n",
       "      <td>360.0</td>\n",
       "      <td>1.0</td>\n",
       "      <td>Urban</td>\n",
       "      <td>15000-1632000</td>\n",
       "      <td>14000000-28000000</td>\n",
       "      <td>0-833340</td>\n",
       "    </tr>\n",
       "    <tr>\n",
       "      <th>3</th>\n",
       "      <td>Male</td>\n",
       "      <td>Yes</td>\n",
       "      <td>2</td>\n",
       "      <td>Graduate</td>\n",
       "      <td>No</td>\n",
       "      <td>360.0</td>\n",
       "      <td>1.0</td>\n",
       "      <td>Urban</td>\n",
       "      <td>15000-1632000</td>\n",
       "      <td>0-14000000</td>\n",
       "      <td>0-833340</td>\n",
       "    </tr>\n",
       "    <tr>\n",
       "      <th>4</th>\n",
       "      <td>Male</td>\n",
       "      <td>No</td>\n",
       "      <td>0</td>\n",
       "      <td>Not Graduate</td>\n",
       "      <td>No</td>\n",
       "      <td>360.0</td>\n",
       "      <td>1.0</td>\n",
       "      <td>Urban</td>\n",
       "      <td>15000-1632000</td>\n",
       "      <td>0-14000000</td>\n",
       "      <td>0-833340</td>\n",
       "    </tr>\n",
       "    <tr>\n",
       "      <th>...</th>\n",
       "      <td>...</td>\n",
       "      <td>...</td>\n",
       "      <td>...</td>\n",
       "      <td>...</td>\n",
       "      <td>...</td>\n",
       "      <td>...</td>\n",
       "      <td>...</td>\n",
       "      <td>...</td>\n",
       "      <td>...</td>\n",
       "      <td>...</td>\n",
       "      <td>...</td>\n",
       "    </tr>\n",
       "    <tr>\n",
       "      <th>362</th>\n",
       "      <td>Male</td>\n",
       "      <td>Yes</td>\n",
       "      <td>3+</td>\n",
       "      <td>Not Graduate</td>\n",
       "      <td>Yes</td>\n",
       "      <td>360.0</td>\n",
       "      <td>1.0</td>\n",
       "      <td>Urban</td>\n",
       "      <td>15000-1632000</td>\n",
       "      <td>0-14000000</td>\n",
       "      <td>0-833340</td>\n",
       "    </tr>\n",
       "    <tr>\n",
       "      <th>363</th>\n",
       "      <td>Male</td>\n",
       "      <td>Yes</td>\n",
       "      <td>0</td>\n",
       "      <td>Graduate</td>\n",
       "      <td>No</td>\n",
       "      <td>360.0</td>\n",
       "      <td>1.0</td>\n",
       "      <td>Urban</td>\n",
       "      <td>15000-1632000</td>\n",
       "      <td>0-14000000</td>\n",
       "      <td>0-833340</td>\n",
       "    </tr>\n",
       "    <tr>\n",
       "      <th>364</th>\n",
       "      <td>Male</td>\n",
       "      <td>No</td>\n",
       "      <td>0</td>\n",
       "      <td>Graduate</td>\n",
       "      <td>No</td>\n",
       "      <td>360.0</td>\n",
       "      <td>1.0</td>\n",
       "      <td>Semiurban</td>\n",
       "      <td>15000-1632000</td>\n",
       "      <td>0-14000000</td>\n",
       "      <td>0-833340</td>\n",
       "    </tr>\n",
       "    <tr>\n",
       "      <th>365</th>\n",
       "      <td>Male</td>\n",
       "      <td>Yes</td>\n",
       "      <td>0</td>\n",
       "      <td>Graduate</td>\n",
       "      <td>No</td>\n",
       "      <td>360.0</td>\n",
       "      <td>1.0</td>\n",
       "      <td>Rural</td>\n",
       "      <td>15000-1632000</td>\n",
       "      <td>14000000-28000000</td>\n",
       "      <td>0-833340</td>\n",
       "    </tr>\n",
       "    <tr>\n",
       "      <th>366</th>\n",
       "      <td>Male</td>\n",
       "      <td>No</td>\n",
       "      <td>0</td>\n",
       "      <td>Graduate</td>\n",
       "      <td>Yes</td>\n",
       "      <td>180.0</td>\n",
       "      <td>1.0</td>\n",
       "      <td>Rural</td>\n",
       "      <td>15000-1632000</td>\n",
       "      <td>0-14000000</td>\n",
       "      <td>0-833340</td>\n",
       "    </tr>\n",
       "  </tbody>\n",
       "</table>\n",
       "<p>367 rows × 11 columns</p>\n",
       "</div>"
      ],
      "text/plain": [
       "    Gender Married Dependents     Education Self_Employed   Term  \\\n",
       "0     Male     Yes          0      Graduate            No  360.0   \n",
       "1     Male     Yes          1      Graduate            No  360.0   \n",
       "2     Male     Yes          2      Graduate            No  360.0   \n",
       "3     Male     Yes          2      Graduate            No  360.0   \n",
       "4     Male      No          0  Not Graduate            No  360.0   \n",
       "..     ...     ...        ...           ...           ...    ...   \n",
       "362   Male     Yes         3+  Not Graduate           Yes  360.0   \n",
       "363   Male     Yes          0      Graduate            No  360.0   \n",
       "364   Male      No          0      Graduate            No  360.0   \n",
       "365   Male     Yes          0      Graduate            No  360.0   \n",
       "366   Male      No          0      Graduate           Yes  180.0   \n",
       "\n",
       "     Credit_History       Area Applicant_Income_Binned Loan_Amount_binned  \\\n",
       "0               1.0      Urban           15000-1632000         0-14000000   \n",
       "1               1.0      Urban           15000-1632000         0-14000000   \n",
       "2               1.0      Urban           15000-1632000  14000000-28000000   \n",
       "3               1.0      Urban           15000-1632000         0-14000000   \n",
       "4               1.0      Urban           15000-1632000         0-14000000   \n",
       "..              ...        ...                     ...                ...   \n",
       "362             1.0      Urban           15000-1632000         0-14000000   \n",
       "363             1.0      Urban           15000-1632000         0-14000000   \n",
       "364             1.0  Semiurban           15000-1632000         0-14000000   \n",
       "365             1.0      Rural           15000-1632000  14000000-28000000   \n",
       "366             1.0      Rural           15000-1632000         0-14000000   \n",
       "\n",
       "    Coapplicant_Income_Binned  \n",
       "0                    0-833340  \n",
       "1                    0-833340  \n",
       "2                    0-833340  \n",
       "3                    0-833340  \n",
       "4                    0-833340  \n",
       "..                        ...  \n",
       "362                  0-833340  \n",
       "363                  0-833340  \n",
       "364                  0-833340  \n",
       "365                  0-833340  \n",
       "366                  0-833340  \n",
       "\n",
       "[367 rows x 11 columns]"
      ]
     },
     "execution_count": 76,
     "metadata": {},
     "output_type": "execute_result"
    }
   ],
   "source": [
    "test_data"
   ]
  },
  {
   "cell_type": "code",
   "execution_count": 77,
   "metadata": {},
   "outputs": [
    {
     "data": {
      "text/plain": [
       "Gender                       0\n",
       "Married                      0\n",
       "Dependents                   0\n",
       "Education                    0\n",
       "Self_Employed                0\n",
       "Term                         0\n",
       "Credit_History               0\n",
       "Area                         0\n",
       "Applicant_Income_Binned      0\n",
       "Loan_Amount_binned           0\n",
       "Coapplicant_Income_Binned    0\n",
       "dtype: int64"
      ]
     },
     "execution_count": 77,
     "metadata": {},
     "output_type": "execute_result"
    }
   ],
   "source": [
    "n = test_data.isnull().sum()\n",
    "n"
   ]
  },
  {
   "cell_type": "code",
   "execution_count": 78,
   "metadata": {},
   "outputs": [
    {
     "name": "stdout",
     "output_type": "stream",
     "text": [
      "Prediction for sample: Y\n"
     ]
    }
   ],
   "source": [
    "sample = test_data.iloc[0]\n",
    "prediction = prediction = predict(tree, sample)\n",
    "print(f\"Prediction for sample: {prediction}\")"
   ]
  },
  {
   "cell_type": "code",
   "execution_count": 79,
   "metadata": {},
   "outputs": [
    {
     "name": "stdout",
     "output_type": "stream",
     "text": [
      "Prediction for first row: Y\n",
      "    Predicted_Status\n",
      "0                  Y\n",
      "1                  Y\n",
      "2                  Y\n",
      "3                  Y\n",
      "4                  Y\n",
      "..               ...\n",
      "362                Y\n",
      "363                Y\n",
      "364                Y\n",
      "365                Y\n",
      "366                N\n",
      "\n",
      "[367 rows x 1 columns]\n"
     ]
    }
   ],
   "source": [
    "predictions = []\n",
    "\n",
    "for index, row in test_data.iterrows():\n",
    "    prediction = predict(tree, row)\n",
    "    predictions.append(prediction)\n",
    "\n",
    "test_data['Predicted_Status'] = predictions\n",
    "print(f\"Prediction for first row: {predictions[0]}\")\n",
    "\n",
    "print(test_data[['Predicted_Status']])\n"
   ]
  },
  {
   "cell_type": "code",
   "execution_count": 80,
   "metadata": {},
   "outputs": [
    {
     "data": {
      "text/plain": [
       "0      1.0\n",
       "1      1.0\n",
       "2      1.0\n",
       "3      1.0\n",
       "4      1.0\n",
       "      ... \n",
       "609    1.0\n",
       "610    1.0\n",
       "611    1.0\n",
       "612    1.0\n",
       "613    0.0\n",
       "Name: Credit_History, Length: 614, dtype: float64"
      ]
     },
     "execution_count": 80,
     "metadata": {},
     "output_type": "execute_result"
    }
   ],
   "source": [
    "df['Credit_History']"
   ]
  },
  {
   "cell_type": "code",
   "execution_count": 81,
   "metadata": {},
   "outputs": [
    {
     "name": "stdout",
     "output_type": "stream",
     "text": [
      "Gender\n",
      "Married\n",
      "Dependents\n",
      "Education\n",
      "Self_Employed\n",
      "Term\n",
      "Credit_History\n",
      "Area\n",
      "Applicant_Income_Binned\n",
      "Coapplicant_Income_Binned\n",
      "Loan_Amount_binned\n"
     ]
    }
   ],
   "source": [
    "for col in X_train.columns:\n",
    "    print(col)\n"
   ]
  },
  {
   "cell_type": "code",
   "execution_count": 82,
   "metadata": {},
   "outputs": [
    {
     "name": "stdout",
     "output_type": "stream",
     "text": [
      "Gender\n",
      "Married\n",
      "Dependents\n",
      "Education\n",
      "Self_Employed\n",
      "Term\n",
      "Credit_History\n",
      "Area\n",
      "Applicant_Income_Binned\n",
      "Coapplicant_Income_Binned\n",
      "Loan_Amount_binned\n"
     ]
    }
   ],
   "source": [
    "for col in X_val.columns:\n",
    "    print(col)\n"
   ]
  },
  {
   "cell_type": "code",
   "execution_count": 83,
   "metadata": {},
   "outputs": [
    {
     "data": {
      "text/plain": [
       "['Y',\n",
       " 'Y',\n",
       " 'Y',\n",
       " 'Y',\n",
       " 'Y',\n",
       " 'N',\n",
       " 'Y',\n",
       " 'Y',\n",
       " 'Y',\n",
       " 'Y',\n",
       " 'N',\n",
       " 'Y',\n",
       " 'N',\n",
       " 'Y',\n",
       " 'Y',\n",
       " 'Y',\n",
       " 'Y',\n",
       " 'Y',\n",
       " 'Y',\n",
       " 'Y',\n",
       " 'Y',\n",
       " 'Y',\n",
       " 'N',\n",
       " 'Y',\n",
       " 'Y',\n",
       " 'Y',\n",
       " 'N',\n",
       " 'Y',\n",
       " 'Y',\n",
       " 'Y',\n",
       " 'Y',\n",
       " 'Y',\n",
       " 'Y',\n",
       " 'Y',\n",
       " 'Y',\n",
       " 'N',\n",
       " 'Y',\n",
       " 'Y',\n",
       " 'Y',\n",
       " 'Y',\n",
       " 'Y',\n",
       " 'Y',\n",
       " 'Y',\n",
       " 'Y',\n",
       " 'Y',\n",
       " 'Y',\n",
       " 'Y',\n",
       " 'N',\n",
       " 'N',\n",
       " 'N',\n",
       " 'Y',\n",
       " 'Y',\n",
       " 'N',\n",
       " 'Y',\n",
       " 'Y',\n",
       " 'Y',\n",
       " 'Y',\n",
       " 'Y',\n",
       " 'N',\n",
       " 'Y',\n",
       " 'Area',\n",
       " 'Y',\n",
       " 'N',\n",
       " 'Y',\n",
       " 'Y',\n",
       " 'Y',\n",
       " 'Y',\n",
       " 'Y',\n",
       " 'Y',\n",
       " 'Y',\n",
       " 'N',\n",
       " 'Y',\n",
       " 'Y',\n",
       " 'Y',\n",
       " 'N',\n",
       " 'Y',\n",
       " 'Y',\n",
       " 'N',\n",
       " 'N',\n",
       " 'N',\n",
       " 'Y',\n",
       " 'Y',\n",
       " 'Y',\n",
       " 'Y',\n",
       " 'Y',\n",
       " 'Y',\n",
       " 'Y',\n",
       " 'N',\n",
       " 'Y',\n",
       " 'Y',\n",
       " 'Y',\n",
       " 'N',\n",
       " 'N',\n",
       " 'Y',\n",
       " 'Y',\n",
       " 'Y',\n",
       " 'Y',\n",
       " 'Y',\n",
       " 'Y',\n",
       " 'Y',\n",
       " 'Y',\n",
       " 'Y',\n",
       " 'Y',\n",
       " 'Y',\n",
       " 'Y',\n",
       " 'N',\n",
       " 'Y',\n",
       " 'N',\n",
       " 'Y',\n",
       " 'Y',\n",
       " 'N',\n",
       " 'N',\n",
       " 'Y',\n",
       " 'Y',\n",
       " 'Y',\n",
       " 'Y',\n",
       " 'Y',\n",
       " 'Y',\n",
       " 'Y',\n",
       " 'Y',\n",
       " 'N',\n",
       " 'Y',\n",
       " 'N']"
      ]
     },
     "execution_count": 83,
     "metadata": {},
     "output_type": "execute_result"
    }
   ],
   "source": [
    "\n",
    "predicted_test = []\n",
    "\n",
    "for index, row in X_val.iterrows():\n",
    "    predicted_val = predict(tree, row)\n",
    "    predicted_test.append(predicted_val)\n",
    "\n",
    "predicted_test\n"
   ]
  },
  {
   "cell_type": "code",
   "execution_count": 84,
   "metadata": {},
   "outputs": [
    {
     "name": "stdout",
     "output_type": "stream",
     "text": [
      "Accuracy: 0.7295\n",
      "Precision: 0.7396\n",
      "Recall: 0.8987\n",
      "F1 Score: 0.8114\n"
     ]
    }
   ],
   "source": [
    "from collections import Counter\n",
    "\n",
    "TP = FN = FP = TN = 0\n",
    "\n",
    "for actual, predicted in zip(y_val, predicted_test):\n",
    "    if actual == 'Y' and predicted == 'Y':\n",
    "        TP += 1 \n",
    "    elif actual == 'Y' and predicted == 'N':\n",
    "        FN += 1 \n",
    "    elif actual == 'N' and predicted == 'Y':\n",
    "        FP += 1 \n",
    "    elif actual == 'N' and predicted == 'N':\n",
    "        TN += 1  \n",
    "\n",
    "accuracy = (TP + TN) / (TP + FP + TN + FN)\n",
    "\n",
    "precision = TP / (TP + FP)\n",
    "\n",
    "recall = TP / (TP + FN)\n",
    "\n",
    "f1_score = 2 * (precision * recall) / (precision + recall)\n",
    "\n",
    "print(f\"Accuracy: {accuracy:.4f}\")\n",
    "print(f\"Precision: {precision:.4f}\")\n",
    "print(f\"Recall: {recall:.4f}\")\n",
    "print(f\"F1 Score: {f1_score:.4f}\")\n"
   ]
  },
  {
   "cell_type": "code",
   "execution_count": 85,
   "metadata": {},
   "outputs": [
    {
     "name": "stdout",
     "output_type": "stream",
     "text": [
      "Predictions saved to test_data_with_predictions.csv\n"
     ]
    }
   ],
   "source": [
    "output_file = \"test_data_with_predictions.csv\"\n",
    "test_data.to_csv(output_file, index=False)\n",
    "print(f\"Predictions saved to {output_file}\")\n"
   ]
  },
  {
   "cell_type": "code",
   "execution_count": 86,
   "metadata": {},
   "outputs": [
    {
     "name": "stdout",
     "output_type": "stream",
     "text": [
      " predicted_status.csv\n"
     ]
    }
   ],
   "source": [
    "predictions = test_data[['Predicted_Status']]\n",
    "output_file = \"predicted_status.csv\"\n",
    "predictions.to_csv(output_file, index=False)\n",
    "print(f\" {output_file}\")\n"
   ]
  },
  {
   "cell_type": "code",
   "execution_count": 87,
   "metadata": {},
   "outputs": [
    {
     "data": {
      "text/plain": [
       "283"
      ]
     },
     "execution_count": 87,
     "metadata": {},
     "output_type": "execute_result"
    }
   ],
   "source": [
    "count_yes = test_data['Predicted_Status'].value_counts().get('Y', 0)\n",
    "count_yes"
   ]
  },
  {
   "cell_type": "code",
   "execution_count": 88,
   "metadata": {},
   "outputs": [
    {
     "data": {
      "text/plain": [
       "83"
      ]
     },
     "execution_count": 88,
     "metadata": {},
     "output_type": "execute_result"
    }
   ],
   "source": [
    "count_no = test_data['Predicted_Status'].value_counts().get('N', 0)\n",
    "count_no"
   ]
  }
 ],
 "metadata": {
  "kernelspec": {
   "display_name": "Python 3",
   "language": "python",
   "name": "python3"
  },
  "language_info": {
   "codemirror_mode": {
    "name": "ipython",
    "version": 3
   },
   "file_extension": ".py",
   "mimetype": "text/x-python",
   "name": "python",
   "nbconvert_exporter": "python",
   "pygments_lexer": "ipython3",
   "version": "3.12.6"
  },
  "orig_nbformat": 4
 },
 "nbformat": 4,
 "nbformat_minor": 2
}
